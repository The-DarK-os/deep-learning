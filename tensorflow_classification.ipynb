{
  "nbformat": 4,
  "nbformat_minor": 0,
  "metadata": {
    "colab": {
      "name": "tensorflow-classification.ipynb",
      "provenance": [],
      "authorship_tag": "ABX9TyNfAHKkWyeKldQ2klBU9HAa",
      "include_colab_link": true
    },
    "kernelspec": {
      "name": "python3",
      "display_name": "Python 3"
    },
    "language_info": {
      "name": "python"
    }
  },
  "cells": [
    {
      "cell_type": "markdown",
      "metadata": {
        "id": "view-in-github",
        "colab_type": "text"
      },
      "source": [
        "<a href=\"https://colab.research.google.com/github/The-DarK-os/deep-learning/blob/master/tensorflow_classification.ipynb\" target=\"_parent\"><img src=\"https://colab.research.google.com/assets/colab-badge.svg\" alt=\"Open In Colab\"/></a>"
      ]
    },
    {
      "cell_type": "code",
      "metadata": {
        "colab": {
          "base_uri": "https://localhost:8080/",
          "height": 204
        },
        "id": "_bhKjPV9yTB0",
        "outputId": "878a40fb-e2ae-471f-e908-ece93b844edb"
      },
      "source": [
        "import pandas as pd \n",
        "import numpy as np\n",
        "import matplotlib.pyplot as plt\n",
        "diabetes = pd.read_csv(\"diabetes.csv\")\n",
        "diabetes.head()"
      ],
      "execution_count": 1,
      "outputs": [
        {
          "output_type": "execute_result",
          "data": {
            "text/html": [
              "<div>\n",
              "<style scoped>\n",
              "    .dataframe tbody tr th:only-of-type {\n",
              "        vertical-align: middle;\n",
              "    }\n",
              "\n",
              "    .dataframe tbody tr th {\n",
              "        vertical-align: top;\n",
              "    }\n",
              "\n",
              "    .dataframe thead th {\n",
              "        text-align: right;\n",
              "    }\n",
              "</style>\n",
              "<table border=\"1\" class=\"dataframe\">\n",
              "  <thead>\n",
              "    <tr style=\"text-align: right;\">\n",
              "      <th></th>\n",
              "      <th>Pregnancies</th>\n",
              "      <th>Glucose</th>\n",
              "      <th>BloodPressure</th>\n",
              "      <th>SkinThickness</th>\n",
              "      <th>Insulin</th>\n",
              "      <th>BMI</th>\n",
              "      <th>DiabetesPedigreeFunction</th>\n",
              "      <th>Age</th>\n",
              "      <th>Outcome</th>\n",
              "    </tr>\n",
              "  </thead>\n",
              "  <tbody>\n",
              "    <tr>\n",
              "      <th>0</th>\n",
              "      <td>6</td>\n",
              "      <td>148</td>\n",
              "      <td>72</td>\n",
              "      <td>35</td>\n",
              "      <td>0</td>\n",
              "      <td>33.6</td>\n",
              "      <td>0.627</td>\n",
              "      <td>50</td>\n",
              "      <td>1</td>\n",
              "    </tr>\n",
              "    <tr>\n",
              "      <th>1</th>\n",
              "      <td>1</td>\n",
              "      <td>85</td>\n",
              "      <td>66</td>\n",
              "      <td>29</td>\n",
              "      <td>0</td>\n",
              "      <td>26.6</td>\n",
              "      <td>0.351</td>\n",
              "      <td>31</td>\n",
              "      <td>0</td>\n",
              "    </tr>\n",
              "    <tr>\n",
              "      <th>2</th>\n",
              "      <td>8</td>\n",
              "      <td>183</td>\n",
              "      <td>64</td>\n",
              "      <td>0</td>\n",
              "      <td>0</td>\n",
              "      <td>23.3</td>\n",
              "      <td>0.672</td>\n",
              "      <td>32</td>\n",
              "      <td>1</td>\n",
              "    </tr>\n",
              "    <tr>\n",
              "      <th>3</th>\n",
              "      <td>1</td>\n",
              "      <td>89</td>\n",
              "      <td>66</td>\n",
              "      <td>23</td>\n",
              "      <td>94</td>\n",
              "      <td>28.1</td>\n",
              "      <td>0.167</td>\n",
              "      <td>21</td>\n",
              "      <td>0</td>\n",
              "    </tr>\n",
              "    <tr>\n",
              "      <th>4</th>\n",
              "      <td>0</td>\n",
              "      <td>137</td>\n",
              "      <td>40</td>\n",
              "      <td>35</td>\n",
              "      <td>168</td>\n",
              "      <td>43.1</td>\n",
              "      <td>2.288</td>\n",
              "      <td>33</td>\n",
              "      <td>1</td>\n",
              "    </tr>\n",
              "  </tbody>\n",
              "</table>\n",
              "</div>"
            ],
            "text/plain": [
              "   Pregnancies  Glucose  BloodPressure  ...  DiabetesPedigreeFunction  Age  Outcome\n",
              "0            6      148             72  ...                     0.627   50        1\n",
              "1            1       85             66  ...                     0.351   31        0\n",
              "2            8      183             64  ...                     0.672   32        1\n",
              "3            1       89             66  ...                     0.167   21        0\n",
              "4            0      137             40  ...                     2.288   33        1\n",
              "\n",
              "[5 rows x 9 columns]"
            ]
          },
          "metadata": {},
          "execution_count": 1
        }
      ]
    },
    {
      "cell_type": "code",
      "metadata": {
        "id": "dZHZrDkty5Qy"
      },
      "source": [
        "cols_to_norm = ['Pregnancies', 'Glucose', 'BloodPressure', 'SkinThickness', 'Insulin',\n",
        "       'BMI', 'DiabetesPedigreeFunction']\n",
        "diabetes[cols_to_norm] = diabetes[cols_to_norm].apply(lambda x: (x - x.min()) / (x.max() - x.min()))"
      ],
      "execution_count": 2,
      "outputs": []
    },
    {
      "cell_type": "code",
      "metadata": {
        "colab": {
          "base_uri": "https://localhost:8080/",
          "height": 204
        },
        "id": "V3egbFna0BDy",
        "outputId": "dd38fb96-574e-41c5-dc32-45822593c2d6"
      },
      "source": [
        "diabetes.head()"
      ],
      "execution_count": 3,
      "outputs": [
        {
          "output_type": "execute_result",
          "data": {
            "text/html": [
              "<div>\n",
              "<style scoped>\n",
              "    .dataframe tbody tr th:only-of-type {\n",
              "        vertical-align: middle;\n",
              "    }\n",
              "\n",
              "    .dataframe tbody tr th {\n",
              "        vertical-align: top;\n",
              "    }\n",
              "\n",
              "    .dataframe thead th {\n",
              "        text-align: right;\n",
              "    }\n",
              "</style>\n",
              "<table border=\"1\" class=\"dataframe\">\n",
              "  <thead>\n",
              "    <tr style=\"text-align: right;\">\n",
              "      <th></th>\n",
              "      <th>Pregnancies</th>\n",
              "      <th>Glucose</th>\n",
              "      <th>BloodPressure</th>\n",
              "      <th>SkinThickness</th>\n",
              "      <th>Insulin</th>\n",
              "      <th>BMI</th>\n",
              "      <th>DiabetesPedigreeFunction</th>\n",
              "      <th>Age</th>\n",
              "      <th>Outcome</th>\n",
              "    </tr>\n",
              "  </thead>\n",
              "  <tbody>\n",
              "    <tr>\n",
              "      <th>0</th>\n",
              "      <td>0.352941</td>\n",
              "      <td>0.743719</td>\n",
              "      <td>0.590164</td>\n",
              "      <td>0.353535</td>\n",
              "      <td>0.000000</td>\n",
              "      <td>0.500745</td>\n",
              "      <td>0.234415</td>\n",
              "      <td>50</td>\n",
              "      <td>1</td>\n",
              "    </tr>\n",
              "    <tr>\n",
              "      <th>1</th>\n",
              "      <td>0.058824</td>\n",
              "      <td>0.427136</td>\n",
              "      <td>0.540984</td>\n",
              "      <td>0.292929</td>\n",
              "      <td>0.000000</td>\n",
              "      <td>0.396423</td>\n",
              "      <td>0.116567</td>\n",
              "      <td>31</td>\n",
              "      <td>0</td>\n",
              "    </tr>\n",
              "    <tr>\n",
              "      <th>2</th>\n",
              "      <td>0.470588</td>\n",
              "      <td>0.919598</td>\n",
              "      <td>0.524590</td>\n",
              "      <td>0.000000</td>\n",
              "      <td>0.000000</td>\n",
              "      <td>0.347243</td>\n",
              "      <td>0.253629</td>\n",
              "      <td>32</td>\n",
              "      <td>1</td>\n",
              "    </tr>\n",
              "    <tr>\n",
              "      <th>3</th>\n",
              "      <td>0.058824</td>\n",
              "      <td>0.447236</td>\n",
              "      <td>0.540984</td>\n",
              "      <td>0.232323</td>\n",
              "      <td>0.111111</td>\n",
              "      <td>0.418778</td>\n",
              "      <td>0.038002</td>\n",
              "      <td>21</td>\n",
              "      <td>0</td>\n",
              "    </tr>\n",
              "    <tr>\n",
              "      <th>4</th>\n",
              "      <td>0.000000</td>\n",
              "      <td>0.688442</td>\n",
              "      <td>0.327869</td>\n",
              "      <td>0.353535</td>\n",
              "      <td>0.198582</td>\n",
              "      <td>0.642325</td>\n",
              "      <td>0.943638</td>\n",
              "      <td>33</td>\n",
              "      <td>1</td>\n",
              "    </tr>\n",
              "  </tbody>\n",
              "</table>\n",
              "</div>"
            ],
            "text/plain": [
              "   Pregnancies   Glucose  BloodPressure  ...  DiabetesPedigreeFunction  Age  Outcome\n",
              "0     0.352941  0.743719       0.590164  ...                  0.234415   50        1\n",
              "1     0.058824  0.427136       0.540984  ...                  0.116567   31        0\n",
              "2     0.470588  0.919598       0.524590  ...                  0.253629   32        1\n",
              "3     0.058824  0.447236       0.540984  ...                  0.038002   21        0\n",
              "4     0.000000  0.688442       0.327869  ...                  0.943638   33        1\n",
              "\n",
              "[5 rows x 9 columns]"
            ]
          },
          "metadata": {},
          "execution_count": 3
        }
      ]
    },
    {
      "cell_type": "code",
      "metadata": {
        "colab": {
          "base_uri": "https://localhost:8080/"
        },
        "id": "oE724cqm0QfB",
        "outputId": "6b1dadae-69df-42da-d4f6-65c9c0749436"
      },
      "source": [
        "%tensorflow_version 1.3\n",
        "import tensorflow as tf\n",
        "print(tf.__version__)\n",
        "\n",
        "diabetes.columns"
      ],
      "execution_count": 4,
      "outputs": [
        {
          "output_type": "stream",
          "text": [
            "`%tensorflow_version` only switches the major version: 1.x or 2.x.\n",
            "You set: `1.3`. This will be interpreted as: `1.x`.\n",
            "\n",
            "\n",
            "TensorFlow 1.x selected.\n",
            "1.15.2\n"
          ],
          "name": "stdout"
        },
        {
          "output_type": "execute_result",
          "data": {
            "text/plain": [
              "Index(['Pregnancies', 'Glucose', 'BloodPressure', 'SkinThickness', 'Insulin',\n",
              "       'BMI', 'DiabetesPedigreeFunction', 'Age', 'Outcome'],\n",
              "      dtype='object')"
            ]
          },
          "metadata": {},
          "execution_count": 4
        }
      ]
    },
    {
      "cell_type": "code",
      "metadata": {
        "id": "KEcQawoB1Mmi"
      },
      "source": [
        "num_preg = tf.feature_column.numeric_column(\"Pregnancies\")\n",
        "plasma_gluc = tf.feature_column.numeric_column(\"Glucose\")\n",
        "dias_press = tf.feature_column.numeric_column(\"BloodPressure\")\n",
        "skin_thick  = tf.feature_column.numeric_column(\"SkinThickness\")\n",
        "insulin = tf.feature_column.numeric_column(\"Insulin\")\n",
        "bmi = tf.feature_column.numeric_column(\"BMI\")\n",
        "diabetes_pedigree = tf.feature_column.numeric_column(\"DiabetesPedigreeFunction\")\n",
        "age = tf.feature_column.numeric_column(\"Age\")"
      ],
      "execution_count": 5,
      "outputs": []
    },
    {
      "cell_type": "code",
      "metadata": {
        "colab": {
          "base_uri": "https://localhost:8080/",
          "height": 284
        },
        "id": "h-7zeOur3j9y",
        "outputId": "e1913dfe-6c2b-4cfd-9efc-635b76c55002"
      },
      "source": [
        "diabetes['Age'].hist(bins=50)"
      ],
      "execution_count": 6,
      "outputs": [
        {
          "output_type": "execute_result",
          "data": {
            "text/plain": [
              "<matplotlib.axes._subplots.AxesSubplot at 0x7ffb744aeb50>"
            ]
          },
          "metadata": {},
          "execution_count": 6
        },
        {
          "output_type": "display_data",
          "data": {
            "image/png": "[encoded data removed]",
            "text/plain": [
              "<Figure size 432x288 with 1 Axes>"
            ]
          },
          "metadata": {
            "needs_background": "light"
          }
        }
      ]
    },
    {
      "cell_type": "code",
      "metadata": {
        "id": "PP8tkXt94u7y"
      },
      "source": [
        "age_bucket = tf.feature_column.bucketized_column(age,boundaries=[20,30,40,50,60,70,80])\n",
        "feat_cols = [num_preg,plasma_gluc,dias_press,skin_thick,insulin,bmi,diabetes_pedigree,age,age_bucket]\n",
        "x_data = diabetes.drop(\"Outcome\",axis=1)\n",
        "labels = diabetes['Outcome']"
      ],
      "execution_count": 7,
      "outputs": []
    },
    {
      "cell_type": "code",
      "metadata": {
        "id": "yTG5UTZx5Oap"
      },
      "source": [
        "from sklearn.model_selection import train_test_split\n",
        "X_train, X_test, y_train, y_test = train_test_split(x_data, labels, test_size=0.33, random_state=101)"
      ],
      "execution_count": 15,
      "outputs": []
    },
    {
      "cell_type": "code",
      "metadata": {
        "colab": {
          "base_uri": "https://localhost:8080/"
        },
        "id": "RR4a3oYB6gpB",
        "outputId": "7e09914a-fb8f-468e-f956-75e14fff4b43"
      },
      "source": [
        "input_func = tf.estimator.inputs.pandas_input_fn(x=X_train,y=y_train,batch_size=10,num_epochs=1000,shuffle=True)\n",
        "model = tf.estimator.LinearClassifier(feature_columns=feat_cols,n_classes=2)"
      ],
      "execution_count": 16,
      "outputs": [
        {
          "output_type": "stream",
          "text": [
            "INFO:tensorflow:Using default config.\n",
            "WARNING:tensorflow:Using temporary folder as model directory: /tmp/tmp449gugk5\n",
            "INFO:tensorflow:Using config: {'_model_dir': '/tmp/tmp449gugk5', '_tf_random_seed': None, '_save_summary_steps': 100, '_save_checkpoints_steps': None, '_save_checkpoints_secs': 600, '_session_config': allow_soft_placement: true\n",
            "graph_options {\n",
            "  rewrite_options {\n",
            "    meta_optimizer_iterations: ONE\n",
            "  }\n",
            "}\n",
            ", '_keep_checkpoint_max': 5, '_keep_checkpoint_every_n_hours': 10000, '_log_step_count_steps': 100, '_train_distribute': None, '_device_fn': None, '_protocol': None, '_eval_distribute': None, '_experimental_distribute': None, '_experimental_max_worker_delay_secs': None, '_session_creation_timeout_secs': 7200, '_service': None, '_cluster_spec': <tensorflow.python.training.server_lib.ClusterSpec object at 0x7ffb66c5e310>, '_task_type': 'worker', '_task_id': 0, '_global_id_in_cluster': 0, '_master': '', '_evaluation_master': '', '_is_chief': True, '_num_ps_replicas': 0, '_num_worker_replicas': 1}\n"
          ],
          "name": "stdout"
        }
      ]
    },
    {
      "cell_type": "code",
      "metadata": {
        "colab": {
          "base_uri": "https://localhost:8080/"
        },
        "id": "nqP7t-eO7EmY",
        "outputId": "ad1e599d-fe8f-4302-b361-f8854bd69322"
      },
      "source": [
        "model.train(input_fn = input_func,steps=1000)"
      ],
      "execution_count": 18,
      "outputs": [
        {
          "output_type": "stream",
          "text": [
            "WARNING:tensorflow:From /tensorflow-1.15.2/python3.7/tensorflow_core/python/training/training_util.py:236: Variable.initialized_value (from tensorflow.python.ops.variables) is deprecated and will be removed in a future version.\n",
            "Instructions for updating:\n",
            "Use Variable.read_value. Variables in 2.X are initialized automatically both in eager and graph (inside tf.defun) contexts.\n",
            "WARNING:tensorflow:From /tensorflow-1.15.2/python3.7/tensorflow_estimator/python/estimator/inputs/queues/feeding_queue_runner.py:62: QueueRunner.__init__ (from tensorflow.python.training.queue_runner_impl) is deprecated and will be removed in a future version.\n",
            "Instructions for updating:\n",
            "To construct input pipelines, use the `tf.data` module.\n",
            "WARNING:tensorflow:From /tensorflow-1.15.2/python3.7/tensorflow_estimator/python/estimator/inputs/queues/feeding_functions.py:500: add_queue_runner (from tensorflow.python.training.queue_runner_impl) is deprecated and will be removed in a future version.\n",
            "Instructions for updating:\n",
            "To construct input pipelines, use the `tf.data` module.\n",
            "INFO:tensorflow:Calling model_fn.\n",
            "WARNING:tensorflow:From /tensorflow-1.15.2/python3.7/tensorflow_core/python/feature_column/feature_column_v2.py:305: Layer.add_variable (from tensorflow.python.keras.engine.base_layer) is deprecated and will be removed in a future version.\n",
            "Instructions for updating:\n",
            "Please use `layer.add_weight` method instead.\n",
            "WARNING:tensorflow:From /tensorflow-1.15.2/python3.7/tensorflow_core/python/ops/resource_variable_ops.py:1630: calling BaseResourceVariable.__init__ (from tensorflow.python.ops.resource_variable_ops) with constraint is deprecated and will be removed in a future version.\n",
            "Instructions for updating:\n",
            "If using Keras pass *_constraint arguments to layers.\n",
            "WARNING:tensorflow:From /tensorflow-1.15.2/python3.7/tensorflow_core/python/ops/embedding_ops.py:802: where (from tensorflow.python.ops.array_ops) is deprecated and will be removed in a future version.\n",
            "Instructions for updating:\n",
            "Use tf.where in 2.0, which has the same broadcast rule as np.where\n",
            "WARNING:tensorflow:From /tensorflow-1.15.2/python3.7/tensorflow_estimator/python/estimator/canned/linear.py:308: to_float (from tensorflow.python.ops.math_ops) is deprecated and will be removed in a future version.\n",
            "Instructions for updating:\n",
            "Use `tf.cast` instead.\n",
            "INFO:tensorflow:Done calling model_fn.\n",
            "INFO:tensorflow:Create CheckpointSaverHook.\n",
            "INFO:tensorflow:Graph was finalized.\n",
            "INFO:tensorflow:Running local_init_op.\n",
            "INFO:tensorflow:Done running local_init_op.\n",
            "WARNING:tensorflow:From /tensorflow-1.15.2/python3.7/tensorflow_core/python/training/monitored_session.py:882: start_queue_runners (from tensorflow.python.training.queue_runner_impl) is deprecated and will be removed in a future version.\n",
            "Instructions for updating:\n",
            "To construct input pipelines, use the `tf.data` module.\n",
            "INFO:tensorflow:Saving checkpoints for 0 into /tmp/tmp449gugk5/model.ckpt.\n",
            "INFO:tensorflow:loss = 6.931472, step = 1\n",
            "WARNING:tensorflow:It seems that global step (tf.train.get_global_step) has not been increased. Current value (could be stable): 19 vs previous value: 19. You could increase the global step by passing tf.train.get_global_step() to Optimizer.apply_gradients or Optimizer.minimize.\n",
            "INFO:tensorflow:global_step/sec: 298.269\n",
            "INFO:tensorflow:loss = 6.5594206, step = 101 (0.347 sec)\n",
            "INFO:tensorflow:global_step/sec: 467.64\n",
            "INFO:tensorflow:loss = 5.695184, step = 201 (0.207 sec)\n",
            "INFO:tensorflow:global_step/sec: 462.179\n",
            "INFO:tensorflow:loss = 7.0614243, step = 301 (0.215 sec)\n",
            "INFO:tensorflow:global_step/sec: 408.028\n",
            "INFO:tensorflow:loss = 8.439459, step = 401 (0.246 sec)\n",
            "INFO:tensorflow:global_step/sec: 407.24\n",
            "INFO:tensorflow:loss = 6.1493597, step = 501 (0.253 sec)\n",
            "INFO:tensorflow:global_step/sec: 435.813\n",
            "INFO:tensorflow:loss = 7.2049265, step = 601 (0.230 sec)\n",
            "INFO:tensorflow:global_step/sec: 416.161\n",
            "INFO:tensorflow:loss = 5.47926, step = 701 (0.230 sec)\n",
            "INFO:tensorflow:global_step/sec: 422.813\n",
            "INFO:tensorflow:loss = 5.0932064, step = 801 (0.245 sec)\n",
            "INFO:tensorflow:global_step/sec: 444.41\n",
            "INFO:tensorflow:loss = 2.8487904, step = 901 (0.226 sec)\n",
            "WARNING:tensorflow:It seems that global step (tf.train.get_global_step) has not been increased. Current value (could be stable): 901 vs previous value: 901. You could increase the global step by passing tf.train.get_global_step() to Optimizer.apply_gradients or Optimizer.minimize.\n",
            "INFO:tensorflow:Saving checkpoints for 1000 into /tmp/tmp449gugk5/model.ckpt.\n",
            "INFO:tensorflow:Loss for final step: 4.4448586.\n"
          ],
          "name": "stdout"
        },
        {
          "output_type": "execute_result",
          "data": {
            "text/plain": [
              "<tensorflow_estimator.python.estimator.canned.linear.LinearClassifier at 0x7ffb6880f490>"
            ]
          },
          "metadata": {},
          "execution_count": 18
        }
      ]
    },
    {
      "cell_type": "code",
      "metadata": {
        "colab": {
          "base_uri": "https://localhost:8080/"
        },
        "id": "cY-u-jgr71F_",
        "outputId": "f2cb442b-75cb-4273-9c28-12a3d92fa7bf"
      },
      "source": [
        "eval_input_func = tf.estimator.inputs.pandas_input_fn(x=X_test,y=y_test,batch_size=10,num_epochs=1,shuffle=False)\n",
        "results = model.evaluate(eval_input_func)"
      ],
      "execution_count": 20,
      "outputs": [
        {
          "output_type": "stream",
          "text": [
            "INFO:tensorflow:Calling model_fn.\n",
            "WARNING:tensorflow:From /tensorflow-1.15.2/python3.7/tensorflow_core/python/ops/metrics_impl.py:2026: div (from tensorflow.python.ops.math_ops) is deprecated and will be removed in a future version.\n",
            "Instructions for updating:\n",
            "Deprecated in favor of operator or tf.math.divide.\n",
            "WARNING:tensorflow:Trapezoidal rule is known to produce incorrect PR-AUCs; please switch to \"careful_interpolation\" instead.\n",
            "WARNING:tensorflow:Trapezoidal rule is known to produce incorrect PR-AUCs; please switch to \"careful_interpolation\" instead.\n",
            "INFO:tensorflow:Done calling model_fn.\n",
            "INFO:tensorflow:Starting evaluation at 2021-08-25T15:36:06Z\n",
            "INFO:tensorflow:Graph was finalized.\n",
            "INFO:tensorflow:Restoring parameters from /tmp/tmp449gugk5/model.ckpt-1000\n",
            "INFO:tensorflow:Running local_init_op.\n",
            "INFO:tensorflow:Done running local_init_op.\n",
            "INFO:tensorflow:Finished evaluation at 2021-08-25-15:36:06\n",
            "INFO:tensorflow:Saving dict for global step 1000: accuracy = 0.71259844, accuracy_baseline = 0.65748036, auc = 0.78068, auc_precision_recall = 0.6270653, average_loss = 0.55570966, global_step = 1000, label/mean = 0.34251967, loss = 5.428856, precision = 0.5714286, prediction/mean = 0.4306703, recall = 0.6436782\n",
            "INFO:tensorflow:Saving 'checkpoint_path' summary for global step 1000: /tmp/tmp449gugk5/model.ckpt-1000\n"
          ],
          "name": "stdout"
        }
      ]
    },
    {
      "cell_type": "code",
      "metadata": {
        "colab": {
          "base_uri": "https://localhost:8080/"
        },
        "id": "-AKwyfct88JU",
        "outputId": "b5d93f58-20ba-4dcd-fff1-db0f4f42eb74"
      },
      "source": [
        "results"
      ],
      "execution_count": 21,
      "outputs": [
        {
          "output_type": "execute_result",
          "data": {
            "text/plain": [
              "{'accuracy': 0.71259844,\n",
              " 'accuracy_baseline': 0.65748036,\n",
              " 'auc': 0.78068,\n",
              " 'auc_precision_recall': 0.6270653,\n",
              " 'average_loss': 0.55570966,\n",
              " 'global_step': 1000,\n",
              " 'label/mean': 0.34251967,\n",
              " 'loss': 5.428856,\n",
              " 'precision': 0.5714286,\n",
              " 'prediction/mean': 0.4306703,\n",
              " 'recall': 0.6436782}"
            ]
          },
          "metadata": {},
          "execution_count": 21
        }
      ]
    },
    {
      "cell_type": "code",
      "metadata": {
        "colab": {
          "base_uri": "https://localhost:8080/"
        },
        "id": "9SYzGz249G9n",
        "outputId": "056b0679-b02f-41bc-9dd6-6b2a80502ebc"
      },
      "source": [
        "pred_input_func = tf.estimator.inputs.pandas_input_fn(x=X_test,batch_size=10,num_epochs=1,shuffle=False)\n",
        "predictions = model.predict(pred_input_func)\n",
        "print(list(predictions))"
      ],
      "execution_count": 23,
      "outputs": [
        {
          "output_type": "stream",
          "text": [
            "INFO:tensorflow:Calling model_fn.\n",
            "INFO:tensorflow:Done calling model_fn.\n",
            "INFO:tensorflow:Graph was finalized.\n",
            "INFO:tensorflow:Restoring parameters from /tmp/tmp449gugk5/model.ckpt-1000\n",
            "INFO:tensorflow:Running local_init_op.\n",
            "INFO:tensorflow:Done running local_init_op.\n",
            "[{'logits': array([0.11734921], dtype=float32), 'logistic': array([0.52930367], dtype=float32), 'probabilities': array([0.4706963 , 0.52930367], dtype=float32), 'class_ids': array([1]), 'classes': array([b'1'], dtype=object), 'all_class_ids': array([0, 1], dtype=int32), 'all_classes': array([b'0', b'1'], dtype=object)}, {'logits': array([0.7728502], dtype=float32), 'logistic': array([0.6841371], dtype=float32), 'probabilities': array([0.3158629 , 0.68413717], dtype=float32), 'class_ids': array([1]), 'classes': array([b'1'], dtype=object), 'all_class_ids': array([0, 1], dtype=int32), 'all_classes': array([b'0', b'1'], dtype=object)}, {'logits': array([-0.09020507], dtype=float32), 'logistic': array([0.47746402], dtype=float32), 'probabilities': array([0.522536  , 0.47746402], dtype=float32), 'class_ids': array([0]), 'classes': array([b'0'], dtype=object), 'all_class_ids': array([0, 1], dtype=int32), 'all_classes': array([b'0', b'1'], dtype=object)}, {'logits': array([-0.6078355], dtype=float32), 'logistic': array([0.35255313], dtype=float32), 'probabilities': array([0.6474469, 0.3525531], dtype=float32), 'class_ids': array([0]), 'classes': array([b'0'], dtype=object), 'all_class_ids': array([0, 1], dtype=int32), 'all_classes': array([b'0', b'1'], dtype=object)}, {'logits': array([-1.450906], dtype=float32), 'logistic': array([0.18986213], dtype=float32), 'probabilities': array([0.81013787, 0.18986218], dtype=float32), 'class_ids': array([0]), 'classes': array([b'0'], dtype=object), 'all_class_ids': array([0, 1], dtype=int32), 'all_classes': array([b'0', b'1'], dtype=object)}, {'logits': array([1.0397384], dtype=float32), 'logistic': array([0.7387995], dtype=float32), 'probabilities': array([0.2612005, 0.7387996], dtype=float32), 'class_ids': array([1]), 'classes': array([b'1'], dtype=object), 'all_class_ids': array([0, 1], dtype=int32), 'all_classes': array([b'0', b'1'], dtype=object)}, {'logits': array([0.4953845], dtype=float32), 'logistic': array([0.6213741], dtype=float32), 'probabilities': array([0.37862593, 0.6213741 ], dtype=float32), 'class_ids': array([1]), 'classes': array([b'1'], dtype=object), 'all_class_ids': array([0, 1], dtype=int32), 'all_classes': array([b'0', b'1'], dtype=object)}, {'logits': array([-0.35839224], dtype=float32), 'logistic': array([0.41134882], dtype=float32), 'probabilities': array([0.5886512, 0.4113488], dtype=float32), 'class_ids': array([0]), 'classes': array([b'0'], dtype=object), 'all_class_ids': array([0, 1], dtype=int32), 'all_classes': array([b'0', b'1'], dtype=object)}, {'logits': array([-0.928421], dtype=float32), 'logistic': array([0.28324518], dtype=float32), 'probabilities': array([0.71675485, 0.28324518], dtype=float32), 'class_ids': array([0]), 'classes': array([b'0'], dtype=object), 'all_class_ids': array([0, 1], dtype=int32), 'all_classes': array([b'0', b'1'], dtype=object)}, {'logits': array([-1.1215852], dtype=float32), 'logistic': array([0.24571736], dtype=float32), 'probabilities': array([0.75428265, 0.24571735], dtype=float32), 'class_ids': array([0]), 'classes': array([b'0'], dtype=object), 'all_class_ids': array([0, 1], dtype=int32), 'all_classes': array([b'0', b'1'], dtype=object)}, {'logits': array([-1.4316771], dtype=float32), 'logistic': array([0.19283748], dtype=float32), 'probabilities': array([0.80716246, 0.1928375 ], dtype=float32), 'class_ids': array([0]), 'classes': array([b'0'], dtype=object), 'all_class_ids': array([0, 1], dtype=int32), 'all_classes': array([b'0', b'1'], dtype=object)}, {'logits': array([-1.5720541], dtype=float32), 'logistic': array([0.17192373], dtype=float32), 'probabilities': array([0.82807624, 0.17192376], dtype=float32), 'class_ids': array([0]), 'classes': array([b'0'], dtype=object), 'all_class_ids': array([0, 1], dtype=int32), 'all_classes': array([b'0', b'1'], dtype=object)}, {'logits': array([-0.16792157], dtype=float32), 'logistic': array([0.458118], dtype=float32), 'probabilities': array([0.54188204, 0.458118  ], dtype=float32), 'class_ids': array([0]), 'classes': array([b'0'], dtype=object), 'all_class_ids': array([0, 1], dtype=int32), 'all_classes': array([b'0', b'1'], dtype=object)}, {'logits': array([0.82786936], dtype=float32), 'logistic': array([0.6959042], dtype=float32), 'probabilities': array([0.3040958 , 0.69590425], dtype=float32), 'class_ids': array([1]), 'classes': array([b'1'], dtype=object), 'all_class_ids': array([0, 1], dtype=int32), 'all_classes': array([b'0', b'1'], dtype=object)}, {'logits': array([-1.2686081], dtype=float32), 'logistic': array([0.21949562], dtype=float32), 'probabilities': array([0.78050435, 0.21949561], dtype=float32), 'class_ids': array([0]), 'classes': array([b'0'], dtype=object), 'all_class_ids': array([0, 1], dtype=int32), 'all_classes': array([b'0', b'1'], dtype=object)}, {'logits': array([-0.45228252], dtype=float32), 'logistic': array([0.3888182], dtype=float32), 'probabilities': array([0.6111818 , 0.38881823], dtype=float32), 'class_ids': array([0]), 'classes': array([b'0'], dtype=object), 'all_class_ids': array([0, 1], dtype=int32), 'all_classes': array([b'0', b'1'], dtype=object)}, {'logits': array([-0.3020631], dtype=float32), 'logistic': array([0.4250532], dtype=float32), 'probabilities': array([0.57494676, 0.4250532 ], dtype=float32), 'class_ids': array([0]), 'classes': array([b'0'], dtype=object), 'all_class_ids': array([0, 1], dtype=int32), 'all_classes': array([b'0', b'1'], dtype=object)}, {'logits': array([-1.5133624], dtype=float32), 'logistic': array([0.18044102], dtype=float32), 'probabilities': array([0.819559  , 0.18044102], dtype=float32), 'class_ids': array([0]), 'classes': array([b'0'], dtype=object), 'all_class_ids': array([0, 1], dtype=int32), 'all_classes': array([b'0', b'1'], dtype=object)}, {'logits': array([-0.24384534], dtype=float32), 'logistic': array([0.43933895], dtype=float32), 'probabilities': array([0.5606611 , 0.43933895], dtype=float32), 'class_ids': array([0]), 'classes': array([b'0'], dtype=object), 'all_class_ids': array([0, 1], dtype=int32), 'all_classes': array([b'0', b'1'], dtype=object)}, {'logits': array([-1.6575215], dtype=float32), 'logistic': array([0.16009499], dtype=float32), 'probabilities': array([0.83990496, 0.16009498], dtype=float32), 'class_ids': array([0]), 'classes': array([b'0'], dtype=object), 'all_class_ids': array([0, 1], dtype=int32), 'all_classes': array([b'0', b'1'], dtype=object)}, {'logits': array([-1.1538486], dtype=float32), 'logistic': array([0.2397868], dtype=float32), 'probabilities': array([0.7602132, 0.2397868], dtype=float32), 'class_ids': array([0]), 'classes': array([b'0'], dtype=object), 'all_class_ids': array([0, 1], dtype=int32), 'all_classes': array([b'0', b'1'], dtype=object)}, {'logits': array([-0.563348], dtype=float32), 'logistic': array([0.36277318], dtype=float32), 'probabilities': array([0.6372268 , 0.36277315], dtype=float32), 'class_ids': array([0]), 'classes': array([b'0'], dtype=object), 'all_class_ids': array([0, 1], dtype=int32), 'all_classes': array([b'0', b'1'], dtype=object)}, {'logits': array([0.80643064], dtype=float32), 'logistic': array([0.6913484], dtype=float32), 'probabilities': array([0.30865163, 0.6913484 ], dtype=float32), 'class_ids': array([1]), 'classes': array([b'1'], dtype=object), 'all_class_ids': array([0, 1], dtype=int32), 'all_classes': array([b'0', b'1'], dtype=object)}, {'logits': array([-1.1061988], dtype=float32), 'logistic': array([0.24858025], dtype=float32), 'probabilities': array([0.7514197 , 0.24858022], dtype=float32), 'class_ids': array([0]), 'classes': array([b'0'], dtype=object), 'all_class_ids': array([0, 1], dtype=int32), 'all_classes': array([b'0', b'1'], dtype=object)}, {'logits': array([-1.1008122], dtype=float32), 'logistic': array([0.24958771], dtype=float32), 'probabilities': array([0.7504123 , 0.24958774], dtype=float32), 'class_ids': array([0]), 'classes': array([b'0'], dtype=object), 'all_class_ids': array([0, 1], dtype=int32), 'all_classes': array([b'0', b'1'], dtype=object)}, {'logits': array([1.5183761], dtype=float32), 'logistic': array([0.82029927], dtype=float32), 'probabilities': array([0.17970076, 0.8202992 ], dtype=float32), 'class_ids': array([1]), 'classes': array([b'1'], dtype=object), 'all_class_ids': array([0, 1], dtype=int32), 'all_classes': array([b'0', b'1'], dtype=object)}, {'logits': array([-1.3684473], dtype=float32), 'logistic': array([0.20287082], dtype=float32), 'probabilities': array([0.79712915, 0.20287082], dtype=float32), 'class_ids': array([0]), 'classes': array([b'0'], dtype=object), 'all_class_ids': array([0, 1], dtype=int32), 'all_classes': array([b'0', b'1'], dtype=object)}, {'logits': array([-0.47840852], dtype=float32), 'logistic': array([0.38262802], dtype=float32), 'probabilities': array([0.617372, 0.382628], dtype=float32), 'class_ids': array([0]), 'classes': array([b'0'], dtype=object), 'all_class_ids': array([0, 1], dtype=int32), 'all_classes': array([b'0', b'1'], dtype=object)}, {'logits': array([-1.7453802], dtype=float32), 'logistic': array([0.14863084], dtype=float32), 'probabilities': array([0.85136914, 0.14863084], dtype=float32), 'class_ids': array([0]), 'classes': array([b'0'], dtype=object), 'all_class_ids': array([0, 1], dtype=int32), 'all_classes': array([b'0', b'1'], dtype=object)}, {'logits': array([0.84293157], dtype=float32), 'logistic': array([0.6990823], dtype=float32), 'probabilities': array([0.3009177, 0.6990823], dtype=float32), 'class_ids': array([1]), 'classes': array([b'1'], dtype=object), 'all_class_ids': array([0, 1], dtype=int32), 'all_classes': array([b'0', b'1'], dtype=object)}, {'logits': array([3.0348284], dtype=float32), 'logistic': array([0.954123], dtype=float32), 'probabilities': array([0.04587701, 0.95412296], dtype=float32), 'class_ids': array([1]), 'classes': array([b'1'], dtype=object), 'all_class_ids': array([0, 1], dtype=int32), 'all_classes': array([b'0', b'1'], dtype=object)}, {'logits': array([0.05895501], dtype=float32), 'logistic': array([0.5147345], dtype=float32), 'probabilities': array([0.4852655 , 0.51473445], dtype=float32), 'class_ids': array([1]), 'classes': array([b'1'], dtype=object), 'all_class_ids': array([0, 1], dtype=int32), 'all_classes': array([b'0', b'1'], dtype=object)}, {'logits': array([-0.592355], dtype=float32), 'logistic': array([0.35609472], dtype=float32), 'probabilities': array([0.64390534, 0.35609472], dtype=float32), 'class_ids': array([0]), 'classes': array([b'0'], dtype=object), 'all_class_ids': array([0, 1], dtype=int32), 'all_classes': array([b'0', b'1'], dtype=object)}, {'logits': array([0.91189665], dtype=float32), 'logistic': array([0.71338814], dtype=float32), 'probabilities': array([0.28661186, 0.7133881 ], dtype=float32), 'class_ids': array([1]), 'classes': array([b'1'], dtype=object), 'all_class_ids': array([0, 1], dtype=int32), 'all_classes': array([b'0', b'1'], dtype=object)}, {'logits': array([-0.7569194], dtype=float32), 'logistic': array([0.3193155], dtype=float32), 'probabilities': array([0.68068457, 0.3193155 ], dtype=float32), 'class_ids': array([0]), 'classes': array([b'0'], dtype=object), 'all_class_ids': array([0, 1], dtype=int32), 'all_classes': array([b'0', b'1'], dtype=object)}, {'logits': array([-0.01252508], dtype=float32), 'logistic': array([0.49686876], dtype=float32), 'probabilities': array([0.5031312 , 0.49686876], dtype=float32), 'class_ids': array([0]), 'classes': array([b'0'], dtype=object), 'all_class_ids': array([0, 1], dtype=int32), 'all_classes': array([b'0', b'1'], dtype=object)}, {'logits': array([0.45781296], dtype=float32), 'logistic': array([0.6124952], dtype=float32), 'probabilities': array([0.38750476, 0.6124952 ], dtype=float32), 'class_ids': array([1]), 'classes': array([b'1'], dtype=object), 'all_class_ids': array([0, 1], dtype=int32), 'all_classes': array([b'0', b'1'], dtype=object)}, {'logits': array([1.0737514], dtype=float32), 'logistic': array([0.74530965], dtype=float32), 'probabilities': array([0.25469032, 0.74530965], dtype=float32), 'class_ids': array([1]), 'classes': array([b'1'], dtype=object), 'all_class_ids': array([0, 1], dtype=int32), 'all_classes': array([b'0', b'1'], dtype=object)}, {'logits': array([1.5698113], dtype=float32), 'logistic': array([0.8277567], dtype=float32), 'probabilities': array([0.17224328, 0.8277567 ], dtype=float32), 'class_ids': array([1]), 'classes': array([b'1'], dtype=object), 'all_class_ids': array([0, 1], dtype=int32), 'all_classes': array([b'0', b'1'], dtype=object)}, {'logits': array([-0.46275035], dtype=float32), 'logistic': array([0.38633358], dtype=float32), 'probabilities': array([0.6136665, 0.3863336], dtype=float32), 'class_ids': array([0]), 'classes': array([b'0'], dtype=object), 'all_class_ids': array([0, 1], dtype=int32), 'all_classes': array([b'0', b'1'], dtype=object)}, {'logits': array([-1.1064531], dtype=float32), 'logistic': array([0.24853274], dtype=float32), 'probabilities': array([0.7514673 , 0.24853274], dtype=float32), 'class_ids': array([0]), 'classes': array([b'0'], dtype=object), 'all_class_ids': array([0, 1], dtype=int32), 'all_classes': array([b'0', b'1'], dtype=object)}, {'logits': array([0.67613274], dtype=float32), 'logistic': array([0.662875], dtype=float32), 'probabilities': array([0.337125  , 0.66287506], dtype=float32), 'class_ids': array([1]), 'classes': array([b'1'], dtype=object), 'all_class_ids': array([0, 1], dtype=int32), 'all_classes': array([b'0', b'1'], dtype=object)}, {'logits': array([-1.4145768], dtype=float32), 'logistic': array([0.19551316], dtype=float32), 'probabilities': array([0.8044869 , 0.19551319], dtype=float32), 'class_ids': array([0]), 'classes': array([b'0'], dtype=object), 'all_class_ids': array([0, 1], dtype=int32), 'all_classes': array([b'0', b'1'], dtype=object)}, {'logits': array([0.36618572], dtype=float32), 'logistic': array([0.59053695], dtype=float32), 'probabilities': array([0.40946302, 0.590537  ], dtype=float32), 'class_ids': array([1]), 'classes': array([b'1'], dtype=object), 'all_class_ids': array([0, 1], dtype=int32), 'all_classes': array([b'0', b'1'], dtype=object)}, {'logits': array([-1.5689328], dtype=float32), 'logistic': array([0.17236859], dtype=float32), 'probabilities': array([0.8276314 , 0.17236859], dtype=float32), 'class_ids': array([0]), 'classes': array([b'0'], dtype=object), 'all_class_ids': array([0, 1], dtype=int32), 'all_classes': array([b'0', b'1'], dtype=object)}, {'logits': array([-2.074308], dtype=float32), 'logistic': array([0.11161914], dtype=float32), 'probabilities': array([0.8883808 , 0.11161915], dtype=float32), 'class_ids': array([0]), 'classes': array([b'0'], dtype=object), 'all_class_ids': array([0, 1], dtype=int32), 'all_classes': array([b'0', b'1'], dtype=object)}, {'logits': array([0.95353466], dtype=float32), 'logistic': array([0.7218255], dtype=float32), 'probabilities': array([0.27817455, 0.7218255 ], dtype=float32), 'class_ids': array([1]), 'classes': array([b'1'], dtype=object), 'all_class_ids': array([0, 1], dtype=int32), 'all_classes': array([b'0', b'1'], dtype=object)}, {'logits': array([-1.0875242], dtype=float32), 'logistic': array([0.2520848], dtype=float32), 'probabilities': array([0.7479152 , 0.25208476], dtype=float32), 'class_ids': array([0]), 'classes': array([b'0'], dtype=object), 'all_class_ids': array([0, 1], dtype=int32), 'all_classes': array([b'0', b'1'], dtype=object)}, {'logits': array([-1.1882453], dtype=float32), 'logistic': array([0.2335729], dtype=float32), 'probabilities': array([0.7664271, 0.2335729], dtype=float32), 'class_ids': array([0]), 'classes': array([b'0'], dtype=object), 'all_class_ids': array([0, 1], dtype=int32), 'all_classes': array([b'0', b'1'], dtype=object)}, {'logits': array([-1.9665906], dtype=float32), 'logistic': array([0.12275556], dtype=float32), 'probabilities': array([0.8772445 , 0.12275556], dtype=float32), 'class_ids': array([0]), 'classes': array([b'0'], dtype=object), 'all_class_ids': array([0, 1], dtype=int32), 'all_classes': array([b'0', b'1'], dtype=object)}, {'logits': array([-1.3180192], dtype=float32), 'logistic': array([0.21114805], dtype=float32), 'probabilities': array([0.788852  , 0.21114804], dtype=float32), 'class_ids': array([0]), 'classes': array([b'0'], dtype=object), 'all_class_ids': array([0, 1], dtype=int32), 'all_classes': array([b'0', b'1'], dtype=object)}, {'logits': array([-0.83836156], dtype=float32), 'logistic': array([0.30187994], dtype=float32), 'probabilities': array([0.69812   , 0.30187997], dtype=float32), 'class_ids': array([0]), 'classes': array([b'0'], dtype=object), 'all_class_ids': array([0, 1], dtype=int32), 'all_classes': array([b'0', b'1'], dtype=object)}, {'logits': array([-0.88514775], dtype=float32), 'logistic': array([0.29211217], dtype=float32), 'probabilities': array([0.7078878 , 0.29211217], dtype=float32), 'class_ids': array([0]), 'classes': array([b'0'], dtype=object), 'all_class_ids': array([0, 1], dtype=int32), 'all_classes': array([b'0', b'1'], dtype=object)}, {'logits': array([-0.24681863], dtype=float32), 'logistic': array([0.4386067], dtype=float32), 'probabilities': array([0.56139326, 0.43860665], dtype=float32), 'class_ids': array([0]), 'classes': array([b'0'], dtype=object), 'all_class_ids': array([0, 1], dtype=int32), 'all_classes': array([b'0', b'1'], dtype=object)}, {'logits': array([-1.3860539], dtype=float32), 'logistic': array([0.20003846], dtype=float32), 'probabilities': array([0.79996157, 0.20003848], dtype=float32), 'class_ids': array([0]), 'classes': array([b'0'], dtype=object), 'all_class_ids': array([0, 1], dtype=int32), 'all_classes': array([b'0', b'1'], dtype=object)}, {'logits': array([-0.9989198], dtype=float32), 'logistic': array([0.2691539], dtype=float32), 'probabilities': array([0.7308461 , 0.26915383], dtype=float32), 'class_ids': array([0]), 'classes': array([b'0'], dtype=object), 'all_class_ids': array([0, 1], dtype=int32), 'all_classes': array([b'0', b'1'], dtype=object)}, {'logits': array([-1.0882938], dtype=float32), 'logistic': array([0.2519397], dtype=float32), 'probabilities': array([0.74806035, 0.2519397 ], dtype=float32), 'class_ids': array([0]), 'classes': array([b'0'], dtype=object), 'all_class_ids': array([0, 1], dtype=int32), 'all_classes': array([b'0', b'1'], dtype=object)}, {'logits': array([-1.0845224], dtype=float32), 'logistic': array([0.25265115], dtype=float32), 'probabilities': array([0.74734885, 0.25265115], dtype=float32), 'class_ids': array([0]), 'classes': array([b'0'], dtype=object), 'all_class_ids': array([0, 1], dtype=int32), 'all_classes': array([b'0', b'1'], dtype=object)}, {'logits': array([0.54335266], dtype=float32), 'logistic': array([0.63259196], dtype=float32), 'probabilities': array([0.367408  , 0.63259196], dtype=float32), 'class_ids': array([1]), 'classes': array([b'1'], dtype=object), 'all_class_ids': array([0, 1], dtype=int32), 'all_classes': array([b'0', b'1'], dtype=object)}, {'logits': array([-1.382596], dtype=float32), 'logistic': array([0.20059238], dtype=float32), 'probabilities': array([0.79940766, 0.2005924 ], dtype=float32), 'class_ids': array([0]), 'classes': array([b'0'], dtype=object), 'all_class_ids': array([0, 1], dtype=int32), 'all_classes': array([b'0', b'1'], dtype=object)}, {'logits': array([-0.9701004], dtype=float32), 'logistic': array([0.2748605], dtype=float32), 'probabilities': array([0.7251395, 0.2748605], dtype=float32), 'class_ids': array([0]), 'classes': array([b'0'], dtype=object), 'all_class_ids': array([0, 1], dtype=int32), 'all_classes': array([b'0', b'1'], dtype=object)}, {'logits': array([1.1440349], dtype=float32), 'logistic': array([0.75841963], dtype=float32), 'probabilities': array([0.24158032, 0.7584197 ], dtype=float32), 'class_ids': array([1]), 'classes': array([b'1'], dtype=object), 'all_class_ids': array([0, 1], dtype=int32), 'all_classes': array([b'0', b'1'], dtype=object)}, {'logits': array([1.0810473], dtype=float32), 'logistic': array([0.7466921], dtype=float32), 'probabilities': array([0.25330788, 0.7466921 ], dtype=float32), 'class_ids': array([1]), 'classes': array([b'1'], dtype=object), 'all_class_ids': array([0, 1], dtype=int32), 'all_classes': array([b'0', b'1'], dtype=object)}, {'logits': array([0.54166764], dtype=float32), 'logistic': array([0.63220024], dtype=float32), 'probabilities': array([0.36779973, 0.63220024], dtype=float32), 'class_ids': array([1]), 'classes': array([b'1'], dtype=object), 'all_class_ids': array([0, 1], dtype=int32), 'all_classes': array([b'0', b'1'], dtype=object)}, {'logits': array([-0.5327556], dtype=float32), 'logistic': array([0.36987442], dtype=float32), 'probabilities': array([0.6301256 , 0.36987442], dtype=float32), 'class_ids': array([0]), 'classes': array([b'0'], dtype=object), 'all_class_ids': array([0, 1], dtype=int32), 'all_classes': array([b'0', b'1'], dtype=object)}, {'logits': array([0.25013763], dtype=float32), 'logistic': array([0.5622104], dtype=float32), 'probabilities': array([0.43778965, 0.5622104 ], dtype=float32), 'class_ids': array([1]), 'classes': array([b'1'], dtype=object), 'all_class_ids': array([0, 1], dtype=int32), 'all_classes': array([b'0', b'1'], dtype=object)}, {'logits': array([-1.1534328], dtype=float32), 'logistic': array([0.23986262], dtype=float32), 'probabilities': array([0.7601374 , 0.23986262], dtype=float32), 'class_ids': array([0]), 'classes': array([b'0'], dtype=object), 'all_class_ids': array([0, 1], dtype=int32), 'all_classes': array([b'0', b'1'], dtype=object)}, {'logits': array([-1.127272], dtype=float32), 'logistic': array([0.24466491], dtype=float32), 'probabilities': array([0.7553351, 0.2446649], dtype=float32), 'class_ids': array([0]), 'classes': array([b'0'], dtype=object), 'all_class_ids': array([0, 1], dtype=int32), 'all_classes': array([b'0', b'1'], dtype=object)}, {'logits': array([-1.3652904], dtype=float32), 'logistic': array([0.2033818], dtype=float32), 'probabilities': array([0.7966182 , 0.20338182], dtype=float32), 'class_ids': array([0]), 'classes': array([b'0'], dtype=object), 'all_class_ids': array([0, 1], dtype=int32), 'all_classes': array([b'0', b'1'], dtype=object)}, {'logits': array([-1.5299821], dtype=float32), 'logistic': array([0.17799631], dtype=float32), 'probabilities': array([0.8220037 , 0.17799631], dtype=float32), 'class_ids': array([0]), 'classes': array([b'0'], dtype=object), 'all_class_ids': array([0, 1], dtype=int32), 'all_classes': array([b'0', b'1'], dtype=object)}, {'logits': array([0.6194219], dtype=float32), 'logistic': array([0.65008706], dtype=float32), 'probabilities': array([0.34991294, 0.65008706], dtype=float32), 'class_ids': array([1]), 'classes': array([b'1'], dtype=object), 'all_class_ids': array([0, 1], dtype=int32), 'all_classes': array([b'0', b'1'], dtype=object)}, {'logits': array([-0.8845704], dtype=float32), 'logistic': array([0.29223156], dtype=float32), 'probabilities': array([0.70776844, 0.2922316 ], dtype=float32), 'class_ids': array([0]), 'classes': array([b'0'], dtype=object), 'all_class_ids': array([0, 1], dtype=int32), 'all_classes': array([b'0', b'1'], dtype=object)}, {'logits': array([-0.06023115], dtype=float32), 'logistic': array([0.48494676], dtype=float32), 'probabilities': array([0.5150532 , 0.48494673], dtype=float32), 'class_ids': array([0]), 'classes': array([b'0'], dtype=object), 'all_class_ids': array([0, 1], dtype=int32), 'all_classes': array([b'0', b'1'], dtype=object)}, {'logits': array([0.514777], dtype=float32), 'logistic': array([0.62592566], dtype=float32), 'probabilities': array([0.37407437, 0.62592566], dtype=float32), 'class_ids': array([1]), 'classes': array([b'1'], dtype=object), 'all_class_ids': array([0, 1], dtype=int32), 'all_classes': array([b'0', b'1'], dtype=object)}, {'logits': array([-1.0879338], dtype=float32), 'logistic': array([0.25200757], dtype=float32), 'probabilities': array([0.74799246, 0.25200757], dtype=float32), 'class_ids': array([0]), 'classes': array([b'0'], dtype=object), 'all_class_ids': array([0, 1], dtype=int32), 'all_classes': array([b'0', b'1'], dtype=object)}, {'logits': array([0.8446203], dtype=float32), 'logistic': array([0.6994374], dtype=float32), 'probabilities': array([0.30056256, 0.6994374 ], dtype=float32), 'class_ids': array([1]), 'classes': array([b'1'], dtype=object), 'all_class_ids': array([0, 1], dtype=int32), 'all_classes': array([b'0', b'1'], dtype=object)}, {'logits': array([-1.7505748], dtype=float32), 'logistic': array([0.1479747], dtype=float32), 'probabilities': array([0.8520253, 0.1479747], dtype=float32), 'class_ids': array([0]), 'classes': array([b'0'], dtype=object), 'all_class_ids': array([0, 1], dtype=int32), 'all_classes': array([b'0', b'1'], dtype=object)}, {'logits': array([0.36267346], dtype=float32), 'logistic': array([0.58968747], dtype=float32), 'probabilities': array([0.4103125, 0.5896874], dtype=float32), 'class_ids': array([1]), 'classes': array([b'1'], dtype=object), 'all_class_ids': array([0, 1], dtype=int32), 'all_classes': array([b'0', b'1'], dtype=object)}, {'logits': array([-1.4966002], dtype=float32), 'logistic': array([0.18293315], dtype=float32), 'probabilities': array([0.81706685, 0.18293315], dtype=float32), 'class_ids': array([0]), 'classes': array([b'0'], dtype=object), 'all_class_ids': array([0, 1], dtype=int32), 'all_classes': array([b'0', b'1'], dtype=object)}, {'logits': array([0.5556019], dtype=float32), 'logistic': array([0.63543427], dtype=float32), 'probabilities': array([0.3645657 , 0.63543427], dtype=float32), 'class_ids': array([1]), 'classes': array([b'1'], dtype=object), 'all_class_ids': array([0, 1], dtype=int32), 'all_classes': array([b'0', b'1'], dtype=object)}, {'logits': array([-0.44694933], dtype=float32), 'logistic': array([0.39008635], dtype=float32), 'probabilities': array([0.60991365, 0.39008632], dtype=float32), 'class_ids': array([0]), 'classes': array([b'0'], dtype=object), 'all_class_ids': array([0, 1], dtype=int32), 'all_classes': array([b'0', b'1'], dtype=object)}, {'logits': array([-1.2323585], dtype=float32), 'logistic': array([0.22576892], dtype=float32), 'probabilities': array([0.7742311 , 0.22576891], dtype=float32), 'class_ids': array([0]), 'classes': array([b'0'], dtype=object), 'all_class_ids': array([0, 1], dtype=int32), 'all_classes': array([b'0', b'1'], dtype=object)}, {'logits': array([0.5744701], dtype=float32), 'logistic': array([0.639794], dtype=float32), 'probabilities': array([0.360206, 0.639794], dtype=float32), 'class_ids': array([1]), 'classes': array([b'1'], dtype=object), 'all_class_ids': array([0, 1], dtype=int32), 'all_classes': array([b'0', b'1'], dtype=object)}, {'logits': array([0.7293542], dtype=float32), 'logistic': array([0.67466354], dtype=float32), 'probabilities': array([0.32533646, 0.67466354], dtype=float32), 'class_ids': array([1]), 'classes': array([b'1'], dtype=object), 'all_class_ids': array([0, 1], dtype=int32), 'all_classes': array([b'0', b'1'], dtype=object)}, {'logits': array([0.68649155], dtype=float32), 'logistic': array([0.665186], dtype=float32), 'probabilities': array([0.334814, 0.665186], dtype=float32), 'class_ids': array([1]), 'classes': array([b'1'], dtype=object), 'all_class_ids': array([0, 1], dtype=int32), 'all_classes': array([b'0', b'1'], dtype=object)}, {'logits': array([-1.2376261], dtype=float32), 'logistic': array([0.22484946], dtype=float32), 'probabilities': array([0.77515054, 0.22484949], dtype=float32), 'class_ids': array([0]), 'classes': array([b'0'], dtype=object), 'all_class_ids': array([0, 1], dtype=int32), 'all_classes': array([b'0', b'1'], dtype=object)}, {'logits': array([-0.21898845], dtype=float32), 'logistic': array([0.44547063], dtype=float32), 'probabilities': array([0.55452937, 0.44547063], dtype=float32), 'class_ids': array([0]), 'classes': array([b'0'], dtype=object), 'all_class_ids': array([0, 1], dtype=int32), 'all_classes': array([b'0', b'1'], dtype=object)}, {'logits': array([-1.0900544], dtype=float32), 'logistic': array([0.25160804], dtype=float32), 'probabilities': array([0.748392  , 0.25160804], dtype=float32), 'class_ids': array([0]), 'classes': array([b'0'], dtype=object), 'all_class_ids': array([0, 1], dtype=int32), 'all_classes': array([b'0', b'1'], dtype=object)}, {'logits': array([1.0588999], dtype=float32), 'logistic': array([0.7424803], dtype=float32), 'probabilities': array([0.25751975, 0.7424803 ], dtype=float32), 'class_ids': array([1]), 'classes': array([b'1'], dtype=object), 'all_class_ids': array([0, 1], dtype=int32), 'all_classes': array([b'0', b'1'], dtype=object)}, {'logits': array([1.963161], dtype=float32), 'logistic': array([0.8768746], dtype=float32), 'probabilities': array([0.12312536, 0.8768746 ], dtype=float32), 'class_ids': array([1]), 'classes': array([b'1'], dtype=object), 'all_class_ids': array([0, 1], dtype=int32), 'all_classes': array([b'0', b'1'], dtype=object)}, {'logits': array([0.75926596], dtype=float32), 'logistic': array([0.6811943], dtype=float32), 'probabilities': array([0.31880566, 0.68119437], dtype=float32), 'class_ids': array([1]), 'classes': array([b'1'], dtype=object), 'all_class_ids': array([0, 1], dtype=int32), 'all_classes': array([b'0', b'1'], dtype=object)}, {'logits': array([-1.2276423], dtype=float32), 'logistic': array([0.22659433], dtype=float32), 'probabilities': array([0.7734056 , 0.22659433], dtype=float32), 'class_ids': array([0]), 'classes': array([b'0'], dtype=object), 'all_class_ids': array([0, 1], dtype=int32), 'all_classes': array([b'0', b'1'], dtype=object)}, {'logits': array([-0.11738247], dtype=float32), 'logistic': array([0.47068805], dtype=float32), 'probabilities': array([0.52931195, 0.47068802], dtype=float32), 'class_ids': array([0]), 'classes': array([b'0'], dtype=object), 'all_class_ids': array([0, 1], dtype=int32), 'all_classes': array([b'0', b'1'], dtype=object)}, {'logits': array([-0.36123246], dtype=float32), 'logistic': array([0.41066128], dtype=float32), 'probabilities': array([0.5893388 , 0.41066128], dtype=float32), 'class_ids': array([0]), 'classes': array([b'0'], dtype=object), 'all_class_ids': array([0, 1], dtype=int32), 'all_classes': array([b'0', b'1'], dtype=object)}, {'logits': array([0.20362407], dtype=float32), 'logistic': array([0.5507308], dtype=float32), 'probabilities': array([0.44926915, 0.5507309 ], dtype=float32), 'class_ids': array([1]), 'classes': array([b'1'], dtype=object), 'all_class_ids': array([0, 1], dtype=int32), 'all_classes': array([b'0', b'1'], dtype=object)}, {'logits': array([-0.39222723], dtype=float32), 'logistic': array([0.40318125], dtype=float32), 'probabilities': array([0.59681875, 0.40318125], dtype=float32), 'class_ids': array([0]), 'classes': array([b'0'], dtype=object), 'all_class_ids': array([0, 1], dtype=int32), 'all_classes': array([b'0', b'1'], dtype=object)}, {'logits': array([0.21548301], dtype=float32), 'logistic': array([0.55366325], dtype=float32), 'probabilities': array([0.44633675, 0.55366325], dtype=float32), 'class_ids': array([1]), 'classes': array([b'1'], dtype=object), 'all_class_ids': array([0, 1], dtype=int32), 'all_classes': array([b'0', b'1'], dtype=object)}, {'logits': array([-1.3899188], dtype=float32), 'logistic': array([0.19942072], dtype=float32), 'probabilities': array([0.80057925, 0.1994207 ], dtype=float32), 'class_ids': array([0]), 'classes': array([b'0'], dtype=object), 'all_class_ids': array([0, 1], dtype=int32), 'all_classes': array([b'0', b'1'], dtype=object)}, {'logits': array([0.68638545], dtype=float32), 'logistic': array([0.6651624], dtype=float32), 'probabilities': array([0.33483765, 0.6651624 ], dtype=float32), 'class_ids': array([1]), 'classes': array([b'1'], dtype=object), 'all_class_ids': array([0, 1], dtype=int32), 'all_classes': array([b'0', b'1'], dtype=object)}, {'logits': array([0.95149714], dtype=float32), 'logistic': array([0.7214161], dtype=float32), 'probabilities': array([0.27858382, 0.7214161 ], dtype=float32), 'class_ids': array([1]), 'classes': array([b'1'], dtype=object), 'all_class_ids': array([0, 1], dtype=int32), 'all_classes': array([b'0', b'1'], dtype=object)}, {'logits': array([-0.8551266], dtype=float32), 'logistic': array([0.29835856], dtype=float32), 'probabilities': array([0.7016415 , 0.29835856], dtype=float32), 'class_ids': array([0]), 'classes': array([b'0'], dtype=object), 'all_class_ids': array([0, 1], dtype=int32), 'all_classes': array([b'0', b'1'], dtype=object)}, {'logits': array([-1.1012527], dtype=float32), 'logistic': array([0.24950525], dtype=float32), 'probabilities': array([0.7504947 , 0.24950525], dtype=float32), 'class_ids': array([0]), 'classes': array([b'0'], dtype=object), 'all_class_ids': array([0, 1], dtype=int32), 'all_classes': array([b'0', b'1'], dtype=object)}, {'logits': array([-1.2962453], dtype=float32), 'logistic': array([0.21479762], dtype=float32), 'probabilities': array([0.78520244, 0.2147976 ], dtype=float32), 'class_ids': array([0]), 'classes': array([b'0'], dtype=object), 'all_class_ids': array([0, 1], dtype=int32), 'all_classes': array([b'0', b'1'], dtype=object)}, {'logits': array([-0.78810847], dtype=float32), 'logistic': array([0.31257495], dtype=float32), 'probabilities': array([0.6874251 , 0.31257498], dtype=float32), 'class_ids': array([0]), 'classes': array([b'0'], dtype=object), 'all_class_ids': array([0, 1], dtype=int32), 'all_classes': array([b'0', b'1'], dtype=object)}, {'logits': array([-0.14935452], dtype=float32), 'logistic': array([0.46273062], dtype=float32), 'probabilities': array([0.53726935, 0.46273062], dtype=float32), 'class_ids': array([0]), 'classes': array([b'0'], dtype=object), 'all_class_ids': array([0, 1], dtype=int32), 'all_classes': array([b'0', b'1'], dtype=object)}, {'logits': array([-1.4687281], dtype=float32), 'logistic': array([0.18713602], dtype=float32), 'probabilities': array([0.81286395, 0.18713601], dtype=float32), 'class_ids': array([0]), 'classes': array([b'0'], dtype=object), 'all_class_ids': array([0, 1], dtype=int32), 'all_classes': array([b'0', b'1'], dtype=object)}, {'logits': array([-0.25229576], dtype=float32), 'logistic': array([0.4372585], dtype=float32), 'probabilities': array([0.56274146, 0.4372585 ], dtype=float32), 'class_ids': array([0]), 'classes': array([b'0'], dtype=object), 'all_class_ids': array([0, 1], dtype=int32), 'all_classes': array([b'0', b'1'], dtype=object)}, {'logits': array([-0.6658073], dtype=float32), 'logistic': array([0.3394363], dtype=float32), 'probabilities': array([0.6605637 , 0.33943626], dtype=float32), 'class_ids': array([0]), 'classes': array([b'0'], dtype=object), 'all_class_ids': array([0, 1], dtype=int32), 'all_classes': array([b'0', b'1'], dtype=object)}, {'logits': array([-1.7895169], dtype=float32), 'logistic': array([0.14313196], dtype=float32), 'probabilities': array([0.856868  , 0.14313196], dtype=float32), 'class_ids': array([0]), 'classes': array([b'0'], dtype=object), 'all_class_ids': array([0, 1], dtype=int32), 'all_classes': array([b'0', b'1'], dtype=object)}, {'logits': array([-1.5181876], dtype=float32), 'logistic': array([0.17972855], dtype=float32), 'probabilities': array([0.8202715 , 0.17972855], dtype=float32), 'class_ids': array([0]), 'classes': array([b'0'], dtype=object), 'all_class_ids': array([0, 1], dtype=int32), 'all_classes': array([b'0', b'1'], dtype=object)}, {'logits': array([1.638835], dtype=float32), 'logistic': array([0.83737636], dtype=float32), 'probabilities': array([0.16262364, 0.8373763 ], dtype=float32), 'class_ids': array([1]), 'classes': array([b'1'], dtype=object), 'all_class_ids': array([0, 1], dtype=int32), 'all_classes': array([b'0', b'1'], dtype=object)}, {'logits': array([-1.2042625], dtype=float32), 'logistic': array([0.23071781], dtype=float32), 'probabilities': array([0.76928216, 0.23071781], dtype=float32), 'class_ids': array([0]), 'classes': array([b'0'], dtype=object), 'all_class_ids': array([0, 1], dtype=int32), 'all_classes': array([b'0', b'1'], dtype=object)}, {'logits': array([-1.4625238], dtype=float32), 'logistic': array([0.18808162], dtype=float32), 'probabilities': array([0.81191844, 0.18808162], dtype=float32), 'class_ids': array([0]), 'classes': array([b'0'], dtype=object), 'all_class_ids': array([0, 1], dtype=int32), 'all_classes': array([b'0', b'1'], dtype=object)}, {'logits': array([-1.4907273], dtype=float32), 'logistic': array([0.18381259], dtype=float32), 'probabilities': array([0.81618744, 0.1838126 ], dtype=float32), 'class_ids': array([0]), 'classes': array([b'0'], dtype=object), 'all_class_ids': array([0, 1], dtype=int32), 'all_classes': array([b'0', b'1'], dtype=object)}, {'logits': array([0.30929226], dtype=float32), 'logistic': array([0.5767125], dtype=float32), 'probabilities': array([0.42328748, 0.5767125 ], dtype=float32), 'class_ids': array([1]), 'classes': array([b'1'], dtype=object), 'all_class_ids': array([0, 1], dtype=int32), 'all_classes': array([b'0', b'1'], dtype=object)}, {'logits': array([0.30728215], dtype=float32), 'logistic': array([0.5762217], dtype=float32), 'probabilities': array([0.42377827, 0.5762217 ], dtype=float32), 'class_ids': array([1]), 'classes': array([b'1'], dtype=object), 'all_class_ids': array([0, 1], dtype=int32), 'all_classes': array([b'0', b'1'], dtype=object)}, {'logits': array([-0.9532703], dtype=float32), 'logistic': array([0.27822763], dtype=float32), 'probabilities': array([0.72177243, 0.27822763], dtype=float32), 'class_ids': array([0]), 'classes': array([b'0'], dtype=object), 'all_class_ids': array([0, 1], dtype=int32), 'all_classes': array([b'0', b'1'], dtype=object)}, {'logits': array([-0.01372665], dtype=float32), 'logistic': array([0.49656838], dtype=float32), 'probabilities': array([0.5034316 , 0.49656838], dtype=float32), 'class_ids': array([0]), 'classes': array([b'0'], dtype=object), 'all_class_ids': array([0, 1], dtype=int32), 'all_classes': array([b'0', b'1'], dtype=object)}, {'logits': array([-1.2232265], dtype=float32), 'logistic': array([0.22736914], dtype=float32), 'probabilities': array([0.7726309 , 0.22736914], dtype=float32), 'class_ids': array([0]), 'classes': array([b'0'], dtype=object), 'all_class_ids': array([0, 1], dtype=int32), 'all_classes': array([b'0', b'1'], dtype=object)}, {'logits': array([-1.088233], dtype=float32), 'logistic': array([0.25195116], dtype=float32), 'probabilities': array([0.74804884, 0.25195116], dtype=float32), 'class_ids': array([0]), 'classes': array([b'0'], dtype=object), 'all_class_ids': array([0, 1], dtype=int32), 'all_classes': array([b'0', b'1'], dtype=object)}, {'logits': array([0.04474646], dtype=float32), 'logistic': array([0.51118475], dtype=float32), 'probabilities': array([0.48881525, 0.51118475], dtype=float32), 'class_ids': array([1]), 'classes': array([b'1'], dtype=object), 'all_class_ids': array([0, 1], dtype=int32), 'all_classes': array([b'0', b'1'], dtype=object)}, {'logits': array([0.2387613], dtype=float32), 'logistic': array([0.55940837], dtype=float32), 'probabilities': array([0.44059163, 0.55940837], dtype=float32), 'class_ids': array([1]), 'classes': array([b'1'], dtype=object), 'all_class_ids': array([0, 1], dtype=int32), 'all_classes': array([b'0', b'1'], dtype=object)}, {'logits': array([-1.4144926], dtype=float32), 'logistic': array([0.19552639], dtype=float32), 'probabilities': array([0.8044736 , 0.19552642], dtype=float32), 'class_ids': array([0]), 'classes': array([b'0'], dtype=object), 'all_class_ids': array([0, 1], dtype=int32), 'all_classes': array([b'0', b'1'], dtype=object)}, {'logits': array([0.06369406], dtype=float32), 'logistic': array([0.51591814], dtype=float32), 'probabilities': array([0.48408186, 0.51591814], dtype=float32), 'class_ids': array([1]), 'classes': array([b'1'], dtype=object), 'all_class_ids': array([0, 1], dtype=int32), 'all_classes': array([b'0', b'1'], dtype=object)}, {'logits': array([1.4408998], dtype=float32), 'logistic': array([0.808594], dtype=float32), 'probabilities': array([0.19140606, 0.808594  ], dtype=float32), 'class_ids': array([1]), 'classes': array([b'1'], dtype=object), 'all_class_ids': array([0, 1], dtype=int32), 'all_classes': array([b'0', b'1'], dtype=object)}, {'logits': array([0.4366774], dtype=float32), 'logistic': array([0.60746706], dtype=float32), 'probabilities': array([0.39253294, 0.607467  ], dtype=float32), 'class_ids': array([1]), 'classes': array([b'1'], dtype=object), 'all_class_ids': array([0, 1], dtype=int32), 'all_classes': array([b'0', b'1'], dtype=object)}, {'logits': array([-0.15177214], dtype=float32), 'logistic': array([0.46212965], dtype=float32), 'probabilities': array([0.53787035, 0.46212962], dtype=float32), 'class_ids': array([0]), 'classes': array([b'0'], dtype=object), 'all_class_ids': array([0, 1], dtype=int32), 'all_classes': array([b'0', b'1'], dtype=object)}, {'logits': array([-1.1551964], dtype=float32), 'logistic': array([0.23954123], dtype=float32), 'probabilities': array([0.76045877, 0.2395412 ], dtype=float32), 'class_ids': array([0]), 'classes': array([b'0'], dtype=object), 'all_class_ids': array([0, 1], dtype=int32), 'all_classes': array([b'0', b'1'], dtype=object)}, {'logits': array([-0.83743143], dtype=float32), 'logistic': array([0.30207604], dtype=float32), 'probabilities': array([0.69792396, 0.302076  ], dtype=float32), 'class_ids': array([0]), 'classes': array([b'0'], dtype=object), 'all_class_ids': array([0, 1], dtype=int32), 'all_classes': array([b'0', b'1'], dtype=object)}, {'logits': array([-1.156559], dtype=float32), 'logistic': array([0.2392931], dtype=float32), 'probabilities': array([0.7607069 , 0.23929311], dtype=float32), 'class_ids': array([0]), 'classes': array([b'0'], dtype=object), 'all_class_ids': array([0, 1], dtype=int32), 'all_classes': array([b'0', b'1'], dtype=object)}, {'logits': array([-1.5459387], dtype=float32), 'logistic': array([0.17567363], dtype=float32), 'probabilities': array([0.82432634, 0.1756736 ], dtype=float32), 'class_ids': array([0]), 'classes': array([b'0'], dtype=object), 'all_class_ids': array([0, 1], dtype=int32), 'all_classes': array([b'0', b'1'], dtype=object)}, {'logits': array([-0.8359571], dtype=float32), 'logistic': array([0.30238697], dtype=float32), 'probabilities': array([0.69761306, 0.30238694], dtype=float32), 'class_ids': array([0]), 'classes': array([b'0'], dtype=object), 'all_class_ids': array([0, 1], dtype=int32), 'all_classes': array([b'0', b'1'], dtype=object)}, {'logits': array([0.16692978], dtype=float32), 'logistic': array([0.5416358], dtype=float32), 'probabilities': array([0.4583642, 0.5416358], dtype=float32), 'class_ids': array([1]), 'classes': array([b'1'], dtype=object), 'all_class_ids': array([0, 1], dtype=int32), 'all_classes': array([b'0', b'1'], dtype=object)}, {'logits': array([0.96829134], dtype=float32), 'logistic': array([0.7247788], dtype=float32), 'probabilities': array([0.2752212 , 0.72477883], dtype=float32), 'class_ids': array([1]), 'classes': array([b'1'], dtype=object), 'all_class_ids': array([0, 1], dtype=int32), 'all_classes': array([b'0', b'1'], dtype=object)}, {'logits': array([-1.0545069], dtype=float32), 'logistic': array([0.2583606], dtype=float32), 'probabilities': array([0.74163944, 0.25836062], dtype=float32), 'class_ids': array([0]), 'classes': array([b'0'], dtype=object), 'all_class_ids': array([0, 1], dtype=int32), 'all_classes': array([b'0', b'1'], dtype=object)}, {'logits': array([-1.4439731], dtype=float32), 'logistic': array([0.19093084], dtype=float32), 'probabilities': array([0.80906916, 0.19093086], dtype=float32), 'class_ids': array([0]), 'classes': array([b'0'], dtype=object), 'all_class_ids': array([0, 1], dtype=int32), 'all_classes': array([b'0', b'1'], dtype=object)}, {'logits': array([-0.14815354], dtype=float32), 'logistic': array([0.4630292], dtype=float32), 'probabilities': array([0.5369708 , 0.46302924], dtype=float32), 'class_ids': array([0]), 'classes': array([b'0'], dtype=object), 'all_class_ids': array([0, 1], dtype=int32), 'all_classes': array([b'0', b'1'], dtype=object)}, {'logits': array([-1.094981], dtype=float32), 'logistic': array([0.25068152], dtype=float32), 'probabilities': array([0.74931854, 0.2506815 ], dtype=float32), 'class_ids': array([0]), 'classes': array([b'0'], dtype=object), 'all_class_ids': array([0, 1], dtype=int32), 'all_classes': array([b'0', b'1'], dtype=object)}, {'logits': array([-1.4762838], dtype=float32), 'logistic': array([0.1859894], dtype=float32), 'probabilities': array([0.8140106, 0.1859894], dtype=float32), 'class_ids': array([0]), 'classes': array([b'0'], dtype=object), 'all_class_ids': array([0, 1], dtype=int32), 'all_classes': array([b'0', b'1'], dtype=object)}, {'logits': array([-1.1841401], dtype=float32), 'logistic': array([0.2343086], dtype=float32), 'probabilities': array([0.7656914 , 0.23430862], dtype=float32), 'class_ids': array([0]), 'classes': array([b'0'], dtype=object), 'all_class_ids': array([0, 1], dtype=int32), 'all_classes': array([b'0', b'1'], dtype=object)}, {'logits': array([-1.6354337], dtype=float32), 'logistic': array([0.16308734], dtype=float32), 'probabilities': array([0.83691263, 0.16308737], dtype=float32), 'class_ids': array([0]), 'classes': array([b'0'], dtype=object), 'all_class_ids': array([0, 1], dtype=int32), 'all_classes': array([b'0', b'1'], dtype=object)}, {'logits': array([-0.6064332], dtype=float32), 'logistic': array([0.35287327], dtype=float32), 'probabilities': array([0.64712673, 0.35287327], dtype=float32), 'class_ids': array([0]), 'classes': array([b'0'], dtype=object), 'all_class_ids': array([0, 1], dtype=int32), 'all_classes': array([b'0', b'1'], dtype=object)}, {'logits': array([1.5764418], dtype=float32), 'logistic': array([0.8287], dtype=float32), 'probabilities': array([0.17130001, 0.8287    ], dtype=float32), 'class_ids': array([1]), 'classes': array([b'1'], dtype=object), 'all_class_ids': array([0, 1], dtype=int32), 'all_classes': array([b'0', b'1'], dtype=object)}, {'logits': array([1.7720573], dtype=float32), 'logistic': array([0.8547133], dtype=float32), 'probabilities': array([0.14528666, 0.8547133 ], dtype=float32), 'class_ids': array([1]), 'classes': array([b'1'], dtype=object), 'all_class_ids': array([0, 1], dtype=int32), 'all_classes': array([b'0', b'1'], dtype=object)}, {'logits': array([0.3420775], dtype=float32), 'logistic': array([0.5846951], dtype=float32), 'probabilities': array([0.41530493, 0.5846951 ], dtype=float32), 'class_ids': array([1]), 'classes': array([b'1'], dtype=object), 'all_class_ids': array([0, 1], dtype=int32), 'all_classes': array([b'0', b'1'], dtype=object)}, {'logits': array([0.4420219], dtype=float32), 'logistic': array([0.6087407], dtype=float32), 'probabilities': array([0.3912593 , 0.60874075], dtype=float32), 'class_ids': array([1]), 'classes': array([b'1'], dtype=object), 'all_class_ids': array([0, 1], dtype=int32), 'all_classes': array([b'0', b'1'], dtype=object)}, {'logits': array([0.7385406], dtype=float32), 'logistic': array([0.67667663], dtype=float32), 'probabilities': array([0.32332337, 0.67667663], dtype=float32), 'class_ids': array([1]), 'classes': array([b'1'], dtype=object), 'all_class_ids': array([0, 1], dtype=int32), 'all_classes': array([b'0', b'1'], dtype=object)}, {'logits': array([-1.680871], dtype=float32), 'logistic': array([0.15698016], dtype=float32), 'probabilities': array([0.84301984, 0.15698016], dtype=float32), 'class_ids': array([0]), 'classes': array([b'0'], dtype=object), 'all_class_ids': array([0, 1], dtype=int32), 'all_classes': array([b'0', b'1'], dtype=object)}, {'logits': array([0.5878617], dtype=float32), 'logistic': array([0.64287436], dtype=float32), 'probabilities': array([0.3571256 , 0.64287436], dtype=float32), 'class_ids': array([1]), 'classes': array([b'1'], dtype=object), 'all_class_ids': array([0, 1], dtype=int32), 'all_classes': array([b'0', b'1'], dtype=object)}, {'logits': array([1.5193961], dtype=float32), 'logistic': array([0.82044953], dtype=float32), 'probabilities': array([0.17955047, 0.82044953], dtype=float32), 'class_ids': array([1]), 'classes': array([b'1'], dtype=object), 'all_class_ids': array([0, 1], dtype=int32), 'all_classes': array([b'0', b'1'], dtype=object)}, {'logits': array([0.15890437], dtype=float32), 'logistic': array([0.5396427], dtype=float32), 'probabilities': array([0.46035734, 0.53964275], dtype=float32), 'class_ids': array([1]), 'classes': array([b'1'], dtype=object), 'all_class_ids': array([0, 1], dtype=int32), 'all_classes': array([b'0', b'1'], dtype=object)}, {'logits': array([-0.7442783], dtype=float32), 'logistic': array([0.32206935], dtype=float32), 'probabilities': array([0.6779307 , 0.32206932], dtype=float32), 'class_ids': array([0]), 'classes': array([b'0'], dtype=object), 'all_class_ids': array([0, 1], dtype=int32), 'all_classes': array([b'0', b'1'], dtype=object)}, {'logits': array([-0.02345675], dtype=float32), 'logistic': array([0.4941361], dtype=float32), 'probabilities': array([0.5058639 , 0.49413607], dtype=float32), 'class_ids': array([0]), 'classes': array([b'0'], dtype=object), 'all_class_ids': array([0, 1], dtype=int32), 'all_classes': array([b'0', b'1'], dtype=object)}, {'logits': array([0.7671527], dtype=float32), 'logistic': array([0.6829046], dtype=float32), 'probabilities': array([0.31709534, 0.68290466], dtype=float32), 'class_ids': array([1]), 'classes': array([b'1'], dtype=object), 'all_class_ids': array([0, 1], dtype=int32), 'all_classes': array([b'0', b'1'], dtype=object)}, {'logits': array([-0.86992526], dtype=float32), 'logistic': array([0.29526988], dtype=float32), 'probabilities': array([0.70473015, 0.29526985], dtype=float32), 'class_ids': array([0]), 'classes': array([b'0'], dtype=object), 'all_class_ids': array([0, 1], dtype=int32), 'all_classes': array([b'0', b'1'], dtype=object)}, {'logits': array([0.97537166], dtype=float32), 'logistic': array([0.72618884], dtype=float32), 'probabilities': array([0.2738111, 0.7261889], dtype=float32), 'class_ids': array([1]), 'classes': array([b'1'], dtype=object), 'all_class_ids': array([0, 1], dtype=int32), 'all_classes': array([b'0', b'1'], dtype=object)}, {'logits': array([0.04014164], dtype=float32), 'logistic': array([0.5100341], dtype=float32), 'probabilities': array([0.48996595, 0.5100341 ], dtype=float32), 'class_ids': array([1]), 'classes': array([b'1'], dtype=object), 'all_class_ids': array([0, 1], dtype=int32), 'all_classes': array([b'0', b'1'], dtype=object)}, {'logits': array([0.11942101], dtype=float32), 'logistic': array([0.52981985], dtype=float32), 'probabilities': array([0.47018015, 0.5298198 ], dtype=float32), 'class_ids': array([1]), 'classes': array([b'1'], dtype=object), 'all_class_ids': array([0, 1], dtype=int32), 'all_classes': array([b'0', b'1'], dtype=object)}, {'logits': array([-1.1950827], dtype=float32), 'logistic': array([0.23235112], dtype=float32), 'probabilities': array([0.7676489 , 0.23235115], dtype=float32), 'class_ids': array([0]), 'classes': array([b'0'], dtype=object), 'all_class_ids': array([0, 1], dtype=int32), 'all_classes': array([b'0', b'1'], dtype=object)}, {'logits': array([-1.1190766], dtype=float32), 'logistic': array([0.24618259], dtype=float32), 'probabilities': array([0.7538174 , 0.24618259], dtype=float32), 'class_ids': array([0]), 'classes': array([b'0'], dtype=object), 'all_class_ids': array([0, 1], dtype=int32), 'all_classes': array([b'0', b'1'], dtype=object)}, {'logits': array([-1.0829029], dtype=float32), 'logistic': array([0.25295708], dtype=float32), 'probabilities': array([0.74704295, 0.25295705], dtype=float32), 'class_ids': array([0]), 'classes': array([b'0'], dtype=object), 'all_class_ids': array([0, 1], dtype=int32), 'all_classes': array([b'0', b'1'], dtype=object)}, {'logits': array([0.08671218], dtype=float32), 'logistic': array([0.52166444], dtype=float32), 'probabilities': array([0.47833556, 0.5216645 ], dtype=float32), 'class_ids': array([1]), 'classes': array([b'1'], dtype=object), 'all_class_ids': array([0, 1], dtype=int32), 'all_classes': array([b'0', b'1'], dtype=object)}, {'logits': array([-1.5375903], dtype=float32), 'logistic': array([0.17688581], dtype=float32), 'probabilities': array([0.82311416, 0.17688584], dtype=float32), 'class_ids': array([0]), 'classes': array([b'0'], dtype=object), 'all_class_ids': array([0, 1], dtype=int32), 'all_classes': array([b'0', b'1'], dtype=object)}, {'logits': array([1.0579205], dtype=float32), 'logistic': array([0.74229294], dtype=float32), 'probabilities': array([0.25770706, 0.74229294], dtype=float32), 'class_ids': array([1]), 'classes': array([b'1'], dtype=object), 'all_class_ids': array([0, 1], dtype=int32), 'all_classes': array([b'0', b'1'], dtype=object)}, {'logits': array([-1.2119803], dtype=float32), 'logistic': array([0.22935084], dtype=float32), 'probabilities': array([0.7706492 , 0.22935085], dtype=float32), 'class_ids': array([0]), 'classes': array([b'0'], dtype=object), 'all_class_ids': array([0, 1], dtype=int32), 'all_classes': array([b'0', b'1'], dtype=object)}, {'logits': array([0.3588174], dtype=float32), 'logistic': array([0.5887541], dtype=float32), 'probabilities': array([0.4112459, 0.5887542], dtype=float32), 'class_ids': array([1]), 'classes': array([b'1'], dtype=object), 'all_class_ids': array([0, 1], dtype=int32), 'all_classes': array([b'0', b'1'], dtype=object)}, {'logits': array([-1.464936], dtype=float32), 'logistic': array([0.18771353], dtype=float32), 'probabilities': array([0.81228644, 0.18771353], dtype=float32), 'class_ids': array([0]), 'classes': array([b'0'], dtype=object), 'all_class_ids': array([0, 1], dtype=int32), 'all_classes': array([b'0', b'1'], dtype=object)}, {'logits': array([1.1920347], dtype=float32), 'logistic': array([0.76710474], dtype=float32), 'probabilities': array([0.23289521, 0.76710474], dtype=float32), 'class_ids': array([1]), 'classes': array([b'1'], dtype=object), 'all_class_ids': array([0, 1], dtype=int32), 'all_classes': array([b'0', b'1'], dtype=object)}, {'logits': array([-0.57727474], dtype=float32), 'logistic': array([0.35955992], dtype=float32), 'probabilities': array([0.64044005, 0.35955992], dtype=float32), 'class_ids': array([0]), 'classes': array([b'0'], dtype=object), 'all_class_ids': array([0, 1], dtype=int32), 'all_classes': array([b'0', b'1'], dtype=object)}, {'logits': array([-1.1165937], dtype=float32), 'logistic': array([0.24664368], dtype=float32), 'probabilities': array([0.75335634, 0.24664366], dtype=float32), 'class_ids': array([0]), 'classes': array([b'0'], dtype=object), 'all_class_ids': array([0, 1], dtype=int32), 'all_classes': array([b'0', b'1'], dtype=object)}, {'logits': array([-0.26321447], dtype=float32), 'logistic': array([0.43457368], dtype=float32), 'probabilities': array([0.5654263 , 0.43457365], dtype=float32), 'class_ids': array([0]), 'classes': array([b'0'], dtype=object), 'all_class_ids': array([0, 1], dtype=int32), 'all_classes': array([b'0', b'1'], dtype=object)}, {'logits': array([-0.34075975], dtype=float32), 'logistic': array([0.41562495], dtype=float32), 'probabilities': array([0.584375 , 0.4156249], dtype=float32), 'class_ids': array([0]), 'classes': array([b'0'], dtype=object), 'all_class_ids': array([0, 1], dtype=int32), 'all_classes': array([b'0', b'1'], dtype=object)}, {'logits': array([-1.5100324], dtype=float32), 'logistic': array([0.18093398], dtype=float32), 'probabilities': array([0.81906605, 0.180934  ], dtype=float32), 'class_ids': array([0]), 'classes': array([b'0'], dtype=object), 'all_class_ids': array([0, 1], dtype=int32), 'all_classes': array([b'0', b'1'], dtype=object)}, {'logits': array([1.4783587], dtype=float32), 'logistic': array([0.8143245], dtype=float32), 'probabilities': array([0.18567546, 0.81432456], dtype=float32), 'class_ids': array([1]), 'classes': array([b'1'], dtype=object), 'all_class_ids': array([0, 1], dtype=int32), 'all_classes': array([b'0', b'1'], dtype=object)}, {'logits': array([-1.2116289], dtype=float32), 'logistic': array([0.22941297], dtype=float32), 'probabilities': array([0.770587  , 0.22941296], dtype=float32), 'class_ids': array([0]), 'classes': array([b'0'], dtype=object), 'all_class_ids': array([0, 1], dtype=int32), 'all_classes': array([b'0', b'1'], dtype=object)}, {'logits': array([-1.6393961], dtype=float32), 'logistic': array([0.16254723], dtype=float32), 'probabilities': array([0.8374527 , 0.16254725], dtype=float32), 'class_ids': array([0]), 'classes': array([b'0'], dtype=object), 'all_class_ids': array([0, 1], dtype=int32), 'all_classes': array([b'0', b'1'], dtype=object)}, {'logits': array([-0.51279294], dtype=float32), 'logistic': array([0.37453902], dtype=float32), 'probabilities': array([0.625461  , 0.37453902], dtype=float32), 'class_ids': array([0]), 'classes': array([b'0'], dtype=object), 'all_class_ids': array([0, 1], dtype=int32), 'all_classes': array([b'0', b'1'], dtype=object)}, {'logits': array([-0.04618621], dtype=float32), 'logistic': array([0.4884555], dtype=float32), 'probabilities': array([0.5115445 , 0.48845553], dtype=float32), 'class_ids': array([0]), 'classes': array([b'0'], dtype=object), 'all_class_ids': array([0, 1], dtype=int32), 'all_classes': array([b'0', b'1'], dtype=object)}, {'logits': array([-0.731279], dtype=float32), 'logistic': array([0.32491413], dtype=float32), 'probabilities': array([0.6750859 , 0.32491413], dtype=float32), 'class_ids': array([0]), 'classes': array([b'0'], dtype=object), 'all_class_ids': array([0, 1], dtype=int32), 'all_classes': array([b'0', b'1'], dtype=object)}, {'logits': array([-1.5450667], dtype=float32), 'logistic': array([0.17579994], dtype=float32), 'probabilities': array([0.8242001 , 0.17579994], dtype=float32), 'class_ids': array([0]), 'classes': array([b'0'], dtype=object), 'all_class_ids': array([0, 1], dtype=int32), 'all_classes': array([b'0', b'1'], dtype=object)}, {'logits': array([1.6564496], dtype=float32), 'logistic': array([0.8397608], dtype=float32), 'probabilities': array([0.16023917, 0.83976084], dtype=float32), 'class_ids': array([1]), 'classes': array([b'1'], dtype=object), 'all_class_ids': array([0, 1], dtype=int32), 'all_classes': array([b'0', b'1'], dtype=object)}, {'logits': array([1.1400836], dtype=float32), 'logistic': array([0.75769496], dtype=float32), 'probabilities': array([0.24230504, 0.757695  ], dtype=float32), 'class_ids': array([1]), 'classes': array([b'1'], dtype=object), 'all_class_ids': array([0, 1], dtype=int32), 'all_classes': array([b'0', b'1'], dtype=object)}, {'logits': array([0.5554456], dtype=float32), 'logistic': array([0.6353981], dtype=float32), 'probabilities': array([0.36460194, 0.6353981 ], dtype=float32), 'class_ids': array([1]), 'classes': array([b'1'], dtype=object), 'all_class_ids': array([0, 1], dtype=int32), 'all_classes': array([b'0', b'1'], dtype=object)}, {'logits': array([1.5984163], dtype=float32), 'logistic': array([0.83179694], dtype=float32), 'probabilities': array([0.16820307, 0.83179694], dtype=float32), 'class_ids': array([1]), 'classes': array([b'1'], dtype=object), 'all_class_ids': array([0, 1], dtype=int32), 'all_classes': array([b'0', b'1'], dtype=object)}, {'logits': array([-1.8226688], dtype=float32), 'logistic': array([0.13911393], dtype=float32), 'probabilities': array([0.86088604, 0.13911395], dtype=float32), 'class_ids': array([0]), 'classes': array([b'0'], dtype=object), 'all_class_ids': array([0, 1], dtype=int32), 'all_classes': array([b'0', b'1'], dtype=object)}, {'logits': array([-1.5739939], dtype=float32), 'logistic': array([0.17164773], dtype=float32), 'probabilities': array([0.8283522 , 0.17164777], dtype=float32), 'class_ids': array([0]), 'classes': array([b'0'], dtype=object), 'all_class_ids': array([0, 1], dtype=int32), 'all_classes': array([b'0', b'1'], dtype=object)}, {'logits': array([-1.0156301], dtype=float32), 'logistic': array([0.26587945], dtype=float32), 'probabilities': array([0.73412055, 0.26587948], dtype=float32), 'class_ids': array([0]), 'classes': array([b'0'], dtype=object), 'all_class_ids': array([0, 1], dtype=int32), 'all_classes': array([b'0', b'1'], dtype=object)}, {'logits': array([-0.56835777], dtype=float32), 'logistic': array([0.36161584], dtype=float32), 'probabilities': array([0.63838416, 0.36161587], dtype=float32), 'class_ids': array([0]), 'classes': array([b'0'], dtype=object), 'all_class_ids': array([0, 1], dtype=int32), 'all_classes': array([b'0', b'1'], dtype=object)}, {'logits': array([-0.39765015], dtype=float32), 'logistic': array([0.40187705], dtype=float32), 'probabilities': array([0.59812295, 0.40187705], dtype=float32), 'class_ids': array([0]), 'classes': array([b'0'], dtype=object), 'all_class_ids': array([0, 1], dtype=int32), 'all_classes': array([b'0', b'1'], dtype=object)}, {'logits': array([0.90381116], dtype=float32), 'logistic': array([0.7117321], dtype=float32), 'probabilities': array([0.28826794, 0.7117321 ], dtype=float32), 'class_ids': array([1]), 'classes': array([b'1'], dtype=object), 'all_class_ids': array([0, 1], dtype=int32), 'all_classes': array([b'0', b'1'], dtype=object)}, {'logits': array([0.5983165], dtype=float32), 'logistic': array([0.645271], dtype=float32), 'probabilities': array([0.35472894, 0.64527106], dtype=float32), 'class_ids': array([1]), 'classes': array([b'1'], dtype=object), 'all_class_ids': array([0, 1], dtype=int32), 'all_classes': array([b'0', b'1'], dtype=object)}, {'logits': array([0.09123796], dtype=float32), 'logistic': array([0.52279365], dtype=float32), 'probabilities': array([0.4772063 , 0.52279365], dtype=float32), 'class_ids': array([1]), 'classes': array([b'1'], dtype=object), 'all_class_ids': array([0, 1], dtype=int32), 'all_classes': array([b'0', b'1'], dtype=object)}, {'logits': array([-0.27941218], dtype=float32), 'logistic': array([0.4305979], dtype=float32), 'probabilities': array([0.5694021, 0.4305979], dtype=float32), 'class_ids': array([0]), 'classes': array([b'0'], dtype=object), 'all_class_ids': array([0, 1], dtype=int32), 'all_classes': array([b'0', b'1'], dtype=object)}, {'logits': array([-0.1147567], dtype=float32), 'logistic': array([0.47134227], dtype=float32), 'probabilities': array([0.52865773, 0.47134227], dtype=float32), 'class_ids': array([0]), 'classes': array([b'0'], dtype=object), 'all_class_ids': array([0, 1], dtype=int32), 'all_classes': array([b'0', b'1'], dtype=object)}, {'logits': array([-1.2106341], dtype=float32), 'logistic': array([0.22958887], dtype=float32), 'probabilities': array([0.77041113, 0.22958888], dtype=float32), 'class_ids': array([0]), 'classes': array([b'0'], dtype=object), 'all_class_ids': array([0, 1], dtype=int32), 'all_classes': array([b'0', b'1'], dtype=object)}, {'logits': array([0.93091494], dtype=float32), 'logistic': array([0.71726084], dtype=float32), 'probabilities': array([0.2827391 , 0.71726084], dtype=float32), 'class_ids': array([1]), 'classes': array([b'1'], dtype=object), 'all_class_ids': array([0, 1], dtype=int32), 'all_classes': array([b'0', b'1'], dtype=object)}, {'logits': array([-1.5328261], dtype=float32), 'logistic': array([0.17758057], dtype=float32), 'probabilities': array([0.8224194 , 0.17758058], dtype=float32), 'class_ids': array([0]), 'classes': array([b'0'], dtype=object), 'all_class_ids': array([0, 1], dtype=int32), 'all_classes': array([b'0', b'1'], dtype=object)}, {'logits': array([-0.59927356], dtype=float32), 'logistic': array([0.35450992], dtype=float32), 'probabilities': array([0.6454901, 0.3545099], dtype=float32), 'class_ids': array([0]), 'classes': array([b'0'], dtype=object), 'all_class_ids': array([0, 1], dtype=int32), 'all_classes': array([b'0', b'1'], dtype=object)}, {'logits': array([0.39865], dtype=float32), 'logistic': array([0.5983633], dtype=float32), 'probabilities': array([0.40163675, 0.5983633 ], dtype=float32), 'class_ids': array([1]), 'classes': array([b'1'], dtype=object), 'all_class_ids': array([0, 1], dtype=int32), 'all_classes': array([b'0', b'1'], dtype=object)}, {'logits': array([-0.34723362], dtype=float32), 'logistic': array([0.4140534], dtype=float32), 'probabilities': array([0.58594656, 0.4140534 ], dtype=float32), 'class_ids': array([0]), 'classes': array([b'0'], dtype=object), 'all_class_ids': array([0, 1], dtype=int32), 'all_classes': array([b'0', b'1'], dtype=object)}, {'logits': array([-1.2604575], dtype=float32), 'logistic': array([0.22089514], dtype=float32), 'probabilities': array([0.7791049 , 0.22089514], dtype=float32), 'class_ids': array([0]), 'classes': array([b'0'], dtype=object), 'all_class_ids': array([0, 1], dtype=int32), 'all_classes': array([b'0', b'1'], dtype=object)}, {'logits': array([-0.6997826], dtype=float32), 'logistic': array([0.33186042], dtype=float32), 'probabilities': array([0.6681396 , 0.33186045], dtype=float32), 'class_ids': array([0]), 'classes': array([b'0'], dtype=object), 'all_class_ids': array([0, 1], dtype=int32), 'all_classes': array([b'0', b'1'], dtype=object)}, {'logits': array([-0.83999354], dtype=float32), 'logistic': array([0.30153617], dtype=float32), 'probabilities': array([0.69846386, 0.30153614], dtype=float32), 'class_ids': array([0]), 'classes': array([b'0'], dtype=object), 'all_class_ids': array([0, 1], dtype=int32), 'all_classes': array([b'0', b'1'], dtype=object)}, {'logits': array([-1.4511415], dtype=float32), 'logistic': array([0.18982595], dtype=float32), 'probabilities': array([0.81017405, 0.18982595], dtype=float32), 'class_ids': array([0]), 'classes': array([b'0'], dtype=object), 'all_class_ids': array([0, 1], dtype=int32), 'all_classes': array([b'0', b'1'], dtype=object)}, {'logits': array([-1.2964919], dtype=float32), 'logistic': array([0.21475604], dtype=float32), 'probabilities': array([0.7852439 , 0.21475603], dtype=float32), 'class_ids': array([0]), 'classes': array([b'0'], dtype=object), 'all_class_ids': array([0, 1], dtype=int32), 'all_classes': array([b'0', b'1'], dtype=object)}, {'logits': array([1.0007062], dtype=float32), 'logistic': array([0.73119736], dtype=float32), 'probabilities': array([0.2688026, 0.7311974], dtype=float32), 'class_ids': array([1]), 'classes': array([b'1'], dtype=object), 'all_class_ids': array([0, 1], dtype=int32), 'all_classes': array([b'0', b'1'], dtype=object)}, {'logits': array([0.6386443], dtype=float32), 'logistic': array([0.65444696], dtype=float32), 'probabilities': array([0.34555307, 0.65444696], dtype=float32), 'class_ids': array([1]), 'classes': array([b'1'], dtype=object), 'all_class_ids': array([0, 1], dtype=int32), 'all_classes': array([b'0', b'1'], dtype=object)}, {'logits': array([0.9092023], dtype=float32), 'logistic': array([0.71283686], dtype=float32), 'probabilities': array([0.2871631, 0.7128369], dtype=float32), 'class_ids': array([1]), 'classes': array([b'1'], dtype=object), 'all_class_ids': array([0, 1], dtype=int32), 'all_classes': array([b'0', b'1'], dtype=object)}, {'logits': array([1.2387228], dtype=float32), 'logistic': array([0.77534163], dtype=float32), 'probabilities': array([0.22465838, 0.77534163], dtype=float32), 'class_ids': array([1]), 'classes': array([b'1'], dtype=object), 'all_class_ids': array([0, 1], dtype=int32), 'all_classes': array([b'0', b'1'], dtype=object)}, {'logits': array([0.3090561], dtype=float32), 'logistic': array([0.57665485], dtype=float32), 'probabilities': array([0.42334515, 0.57665485], dtype=float32), 'class_ids': array([1]), 'classes': array([b'1'], dtype=object), 'all_class_ids': array([0, 1], dtype=int32), 'all_classes': array([b'0', b'1'], dtype=object)}, {'logits': array([-0.35861093], dtype=float32), 'logistic': array([0.4112959], dtype=float32), 'probabilities': array([0.58870417, 0.4112959 ], dtype=float32), 'class_ids': array([0]), 'classes': array([b'0'], dtype=object), 'all_class_ids': array([0, 1], dtype=int32), 'all_classes': array([b'0', b'1'], dtype=object)}, {'logits': array([0.49642557], dtype=float32), 'logistic': array([0.6216189], dtype=float32), 'probabilities': array([0.37838104, 0.621619  ], dtype=float32), 'class_ids': array([1]), 'classes': array([b'1'], dtype=object), 'all_class_ids': array([0, 1], dtype=int32), 'all_classes': array([b'0', b'1'], dtype=object)}, {'logits': array([-1.5262823], dtype=float32), 'logistic': array([0.17853826], dtype=float32), 'probabilities': array([0.82146174, 0.1785383 ], dtype=float32), 'class_ids': array([0]), 'classes': array([b'0'], dtype=object), 'all_class_ids': array([0, 1], dtype=int32), 'all_classes': array([b'0', b'1'], dtype=object)}, {'logits': array([-1.3969057], dtype=float32), 'logistic': array([0.19830757], dtype=float32), 'probabilities': array([0.8016924, 0.1983076], dtype=float32), 'class_ids': array([0]), 'classes': array([b'0'], dtype=object), 'all_class_ids': array([0, 1], dtype=int32), 'all_classes': array([b'0', b'1'], dtype=object)}, {'logits': array([-1.1693987], dtype=float32), 'logistic': array([0.23696369], dtype=float32), 'probabilities': array([0.7630363, 0.2369637], dtype=float32), 'class_ids': array([0]), 'classes': array([b'0'], dtype=object), 'all_class_ids': array([0, 1], dtype=int32), 'all_classes': array([b'0', b'1'], dtype=object)}, {'logits': array([0.42257112], dtype=float32), 'logistic': array([0.6040983], dtype=float32), 'probabilities': array([0.39590165, 0.6040983 ], dtype=float32), 'class_ids': array([1]), 'classes': array([b'1'], dtype=object), 'all_class_ids': array([0, 1], dtype=int32), 'all_classes': array([b'0', b'1'], dtype=object)}, {'logits': array([-2.2798636], dtype=float32), 'logistic': array([0.09280443], dtype=float32), 'probabilities': array([0.90719557, 0.09280443], dtype=float32), 'class_ids': array([0]), 'classes': array([b'0'], dtype=object), 'all_class_ids': array([0, 1], dtype=int32), 'all_classes': array([b'0', b'1'], dtype=object)}, {'logits': array([-0.63580376], dtype=float32), 'logistic': array([0.34619573], dtype=float32), 'probabilities': array([0.65380424, 0.3461957 ], dtype=float32), 'class_ids': array([0]), 'classes': array([b'0'], dtype=object), 'all_class_ids': array([0, 1], dtype=int32), 'all_classes': array([b'0', b'1'], dtype=object)}, {'logits': array([-1.4487469], dtype=float32), 'logistic': array([0.19019449], dtype=float32), 'probabilities': array([0.80980545, 0.19019449], dtype=float32), 'class_ids': array([0]), 'classes': array([b'0'], dtype=object), 'all_class_ids': array([0, 1], dtype=int32), 'all_classes': array([b'0', b'1'], dtype=object)}, {'logits': array([-0.7676741], dtype=float32), 'logistic': array([0.31698245], dtype=float32), 'probabilities': array([0.6830175 , 0.31698245], dtype=float32), 'class_ids': array([0]), 'classes': array([b'0'], dtype=object), 'all_class_ids': array([0, 1], dtype=int32), 'all_classes': array([b'0', b'1'], dtype=object)}, {'logits': array([-1.1636255], dtype=float32), 'logistic': array([0.23800915], dtype=float32), 'probabilities': array([0.76199085, 0.23800914], dtype=float32), 'class_ids': array([0]), 'classes': array([b'0'], dtype=object), 'all_class_ids': array([0, 1], dtype=int32), 'all_classes': array([b'0', b'1'], dtype=object)}, {'logits': array([-0.69358987], dtype=float32), 'logistic': array([0.33323497], dtype=float32), 'probabilities': array([0.66676503, 0.33323497], dtype=float32), 'class_ids': array([0]), 'classes': array([b'0'], dtype=object), 'all_class_ids': array([0, 1], dtype=int32), 'all_classes': array([b'0', b'1'], dtype=object)}, {'logits': array([1.5256758], dtype=float32), 'logistic': array([0.82137275], dtype=float32), 'probabilities': array([0.17862727, 0.8213728 ], dtype=float32), 'class_ids': array([1]), 'classes': array([b'1'], dtype=object), 'all_class_ids': array([0, 1], dtype=int32), 'all_classes': array([b'0', b'1'], dtype=object)}, {'logits': array([-1.2663519], dtype=float32), 'logistic': array([0.2198824], dtype=float32), 'probabilities': array([0.78011763, 0.2198824 ], dtype=float32), 'class_ids': array([0]), 'classes': array([b'0'], dtype=object), 'all_class_ids': array([0, 1], dtype=int32), 'all_classes': array([b'0', b'1'], dtype=object)}, {'logits': array([-1.6065202], dtype=float32), 'logistic': array([0.1670723], dtype=float32), 'probabilities': array([0.8329277, 0.1670723], dtype=float32), 'class_ids': array([0]), 'classes': array([b'0'], dtype=object), 'all_class_ids': array([0, 1], dtype=int32), 'all_classes': array([b'0', b'1'], dtype=object)}, {'logits': array([0.7680717], dtype=float32), 'logistic': array([0.6831036], dtype=float32), 'probabilities': array([0.31689638, 0.6831036 ], dtype=float32), 'class_ids': array([1]), 'classes': array([b'1'], dtype=object), 'all_class_ids': array([0, 1], dtype=int32), 'all_classes': array([b'0', b'1'], dtype=object)}, {'logits': array([0.34773713], dtype=float32), 'logistic': array([0.58606875], dtype=float32), 'probabilities': array([0.41393128, 0.58606875], dtype=float32), 'class_ids': array([1]), 'classes': array([b'1'], dtype=object), 'all_class_ids': array([0, 1], dtype=int32), 'all_classes': array([b'0', b'1'], dtype=object)}, {'logits': array([1.9655724], dtype=float32), 'logistic': array([0.8771348], dtype=float32), 'probabilities': array([0.12286524, 0.87713474], dtype=float32), 'class_ids': array([1]), 'classes': array([b'1'], dtype=object), 'all_class_ids': array([0, 1], dtype=int32), 'all_classes': array([b'0', b'1'], dtype=object)}, {'logits': array([0.8599898], dtype=float32), 'logistic': array([0.70265853], dtype=float32), 'probabilities': array([0.29734147, 0.70265853], dtype=float32), 'class_ids': array([1]), 'classes': array([b'1'], dtype=object), 'all_class_ids': array([0, 1], dtype=int32), 'all_classes': array([b'0', b'1'], dtype=object)}, {'logits': array([-1.5791357], dtype=float32), 'logistic': array([0.17091793], dtype=float32), 'probabilities': array([0.82908213, 0.17091794], dtype=float32), 'class_ids': array([0]), 'classes': array([b'0'], dtype=object), 'all_class_ids': array([0, 1], dtype=int32), 'all_classes': array([b'0', b'1'], dtype=object)}, {'logits': array([0.9097746], dtype=float32), 'logistic': array([0.71295404], dtype=float32), 'probabilities': array([0.28704596, 0.71295404], dtype=float32), 'class_ids': array([1]), 'classes': array([b'1'], dtype=object), 'all_class_ids': array([0, 1], dtype=int32), 'all_classes': array([b'0', b'1'], dtype=object)}, {'logits': array([0.5799845], dtype=float32), 'logistic': array([0.6410638], dtype=float32), 'probabilities': array([0.35893616, 0.6410638 ], dtype=float32), 'class_ids': array([1]), 'classes': array([b'1'], dtype=object), 'all_class_ids': array([0, 1], dtype=int32), 'all_classes': array([b'0', b'1'], dtype=object)}, {'logits': array([1.3888273], dtype=float32), 'logistic': array([0.80040497], dtype=float32), 'probabilities': array([0.19959503, 0.80040497], dtype=float32), 'class_ids': array([1]), 'classes': array([b'1'], dtype=object), 'all_class_ids': array([0, 1], dtype=int32), 'all_classes': array([b'0', b'1'], dtype=object)}, {'logits': array([-0.841515], dtype=float32), 'logistic': array([0.30121583], dtype=float32), 'probabilities': array([0.6987842, 0.3012158], dtype=float32), 'class_ids': array([0]), 'classes': array([b'0'], dtype=object), 'all_class_ids': array([0, 1], dtype=int32), 'all_classes': array([b'0', b'1'], dtype=object)}, {'logits': array([-1.3272538], dtype=float32), 'logistic': array([0.20961395], dtype=float32), 'probabilities': array([0.790386  , 0.20961396], dtype=float32), 'class_ids': array([0]), 'classes': array([b'0'], dtype=object), 'all_class_ids': array([0, 1], dtype=int32), 'all_classes': array([b'0', b'1'], dtype=object)}, {'logits': array([1.0251493], dtype=float32), 'logistic': array([0.73597443], dtype=float32), 'probabilities': array([0.26402557, 0.7359744 ], dtype=float32), 'class_ids': array([1]), 'classes': array([b'1'], dtype=object), 'all_class_ids': array([0, 1], dtype=int32), 'all_classes': array([b'0', b'1'], dtype=object)}, {'logits': array([-1.489826], dtype=float32), 'logistic': array([0.18394783], dtype=float32), 'probabilities': array([0.81605214, 0.18394785], dtype=float32), 'class_ids': array([0]), 'classes': array([b'0'], dtype=object), 'all_class_ids': array([0, 1], dtype=int32), 'all_classes': array([b'0', b'1'], dtype=object)}, {'logits': array([1.6200268], dtype=float32), 'logistic': array([0.8347988], dtype=float32), 'probabilities': array([0.16520117, 0.8347988 ], dtype=float32), 'class_ids': array([1]), 'classes': array([b'1'], dtype=object), 'all_class_ids': array([0, 1], dtype=int32), 'all_classes': array([b'0', b'1'], dtype=object)}, {'logits': array([0.38373107], dtype=float32), 'logistic': array([0.59477264], dtype=float32), 'probabilities': array([0.4052273 , 0.59477264], dtype=float32), 'class_ids': array([1]), 'classes': array([b'1'], dtype=object), 'all_class_ids': array([0, 1], dtype=int32), 'all_classes': array([b'0', b'1'], dtype=object)}, {'logits': array([-1.1387446], dtype=float32), 'logistic': array([0.24255092], dtype=float32), 'probabilities': array([0.7574491 , 0.24255092], dtype=float32), 'class_ids': array([0]), 'classes': array([b'0'], dtype=object), 'all_class_ids': array([0, 1], dtype=int32), 'all_classes': array([b'0', b'1'], dtype=object)}, {'logits': array([0.59209305], dtype=float32), 'logistic': array([0.6438452], dtype=float32), 'probabilities': array([0.35615474, 0.64384526], dtype=float32), 'class_ids': array([1]), 'classes': array([b'1'], dtype=object), 'all_class_ids': array([0, 1], dtype=int32), 'all_classes': array([b'0', b'1'], dtype=object)}, {'logits': array([0.3092634], dtype=float32), 'logistic': array([0.57670546], dtype=float32), 'probabilities': array([0.42329454, 0.57670546], dtype=float32), 'class_ids': array([1]), 'classes': array([b'1'], dtype=object), 'all_class_ids': array([0, 1], dtype=int32), 'all_classes': array([b'0', b'1'], dtype=object)}, {'logits': array([-1.8400464], dtype=float32), 'logistic': array([0.1370458], dtype=float32), 'probabilities': array([0.8629542, 0.1370458], dtype=float32), 'class_ids': array([0]), 'classes': array([b'0'], dtype=object), 'all_class_ids': array([0, 1], dtype=int32), 'all_classes': array([b'0', b'1'], dtype=object)}, {'logits': array([0.48698932], dtype=float32), 'logistic': array([0.6193969], dtype=float32), 'probabilities': array([0.38060305, 0.6193969 ], dtype=float32), 'class_ids': array([1]), 'classes': array([b'1'], dtype=object), 'all_class_ids': array([0, 1], dtype=int32), 'all_classes': array([b'0', b'1'], dtype=object)}, {'logits': array([0.8086981], dtype=float32), 'logistic': array([0.691832], dtype=float32), 'probabilities': array([0.308168, 0.691832], dtype=float32), 'class_ids': array([1]), 'classes': array([b'1'], dtype=object), 'all_class_ids': array([0, 1], dtype=int32), 'all_classes': array([b'0', b'1'], dtype=object)}, {'logits': array([1.5068741], dtype=float32), 'logistic': array([0.8185975], dtype=float32), 'probabilities': array([0.18140252, 0.8185975 ], dtype=float32), 'class_ids': array([1]), 'classes': array([b'1'], dtype=object), 'all_class_ids': array([0, 1], dtype=int32), 'all_classes': array([b'0', b'1'], dtype=object)}, {'logits': array([2.1054692], dtype=float32), 'logistic': array([0.89143366], dtype=float32), 'probabilities': array([0.10856638, 0.89143366], dtype=float32), 'class_ids': array([1]), 'classes': array([b'1'], dtype=object), 'all_class_ids': array([0, 1], dtype=int32), 'all_classes': array([b'0', b'1'], dtype=object)}, {'logits': array([0.20938641], dtype=float32), 'logistic': array([0.55215615], dtype=float32), 'probabilities': array([0.44784382, 0.5521562 ], dtype=float32), 'class_ids': array([1]), 'classes': array([b'1'], dtype=object), 'all_class_ids': array([0, 1], dtype=int32), 'all_classes': array([b'0', b'1'], dtype=object)}, {'logits': array([-1.3915617], dtype=float32), 'logistic': array([0.19915855], dtype=float32), 'probabilities': array([0.8008415 , 0.19915856], dtype=float32), 'class_ids': array([0]), 'classes': array([b'0'], dtype=object), 'all_class_ids': array([0, 1], dtype=int32), 'all_classes': array([b'0', b'1'], dtype=object)}, {'logits': array([-1.9070182], dtype=float32), 'logistic': array([0.12931621], dtype=float32), 'probabilities': array([0.8706838 , 0.12931623], dtype=float32), 'class_ids': array([0]), 'classes': array([b'0'], dtype=object), 'all_class_ids': array([0, 1], dtype=int32), 'all_classes': array([b'0', b'1'], dtype=object)}, {'logits': array([-1.7313042], dtype=float32), 'logistic': array([0.15042084], dtype=float32), 'probabilities': array([0.84957916, 0.15042084], dtype=float32), 'class_ids': array([0]), 'classes': array([b'0'], dtype=object), 'all_class_ids': array([0, 1], dtype=int32), 'all_classes': array([b'0', b'1'], dtype=object)}, {'logits': array([-0.9608073], dtype=float32), 'logistic': array([0.2767166], dtype=float32), 'probabilities': array([0.7232834, 0.2767166], dtype=float32), 'class_ids': array([0]), 'classes': array([b'0'], dtype=object), 'all_class_ids': array([0, 1], dtype=int32), 'all_classes': array([b'0', b'1'], dtype=object)}, {'logits': array([-0.21768475], dtype=float32), 'logistic': array([0.4457927], dtype=float32), 'probabilities': array([0.5542073 , 0.44579273], dtype=float32), 'class_ids': array([0]), 'classes': array([b'0'], dtype=object), 'all_class_ids': array([0, 1], dtype=int32), 'all_classes': array([b'0', b'1'], dtype=object)}, {'logits': array([-1.1350645], dtype=float32), 'logistic': array([0.24322769], dtype=float32), 'probabilities': array([0.75677234, 0.24322768], dtype=float32), 'class_ids': array([0]), 'classes': array([b'0'], dtype=object), 'all_class_ids': array([0, 1], dtype=int32), 'all_classes': array([b'0', b'1'], dtype=object)}]\n"
          ],
          "name": "stdout"
        }
      ]
    },
    {
      "cell_type": "code",
      "metadata": {
        "colab": {
          "base_uri": "https://localhost:8080/"
        },
        "id": "_s0RQ6fy9eTH",
        "outputId": "b644b708-1f16-4a59-8187-fcdd4aa98a7b"
      },
      "source": [
        "dnn_model = tf.estimator.DNNClassifier(hidden_units = [10,10,10],feature_columns=feat_cols,n_classes=2)\n",
        "dnn_model.train(input_fn=input_func,steps=1000)"
      ],
      "execution_count": 28,
      "outputs": [
        {
          "output_type": "stream",
          "text": [
            "INFO:tensorflow:Using default config.\n",
            "WARNING:tensorflow:Using temporary folder as model directory: /tmp/tmpmr6mowwo\n",
            "INFO:tensorflow:Using config: {'_model_dir': '/tmp/tmpmr6mowwo', '_tf_random_seed': None, '_save_summary_steps': 100, '_save_checkpoints_steps': None, '_save_checkpoints_secs': 600, '_session_config': allow_soft_placement: true\n",
            "graph_options {\n",
            "  rewrite_options {\n",
            "    meta_optimizer_iterations: ONE\n",
            "  }\n",
            "}\n",
            ", '_keep_checkpoint_max': 5, '_keep_checkpoint_every_n_hours': 10000, '_log_step_count_steps': 100, '_train_distribute': None, '_device_fn': None, '_protocol': None, '_eval_distribute': None, '_experimental_distribute': None, '_experimental_max_worker_delay_secs': None, '_session_creation_timeout_secs': 7200, '_service': None, '_cluster_spec': <tensorflow.python.training.server_lib.ClusterSpec object at 0x7ffb5f2aec50>, '_task_type': 'worker', '_task_id': 0, '_global_id_in_cluster': 0, '_master': '', '_evaluation_master': '', '_is_chief': True, '_num_ps_replicas': 0, '_num_worker_replicas': 1}\n",
            "INFO:tensorflow:Calling model_fn.\n",
            "WARNING:tensorflow:Entity <bound method _DNNModel.call of <tensorflow_estimator.python.estimator.canned.dnn._DNNModel object at 0x7ffb5f42f510>> could not be transformed and will be executed as-is. Please report this to the AutoGraph team. When filing the bug, set the verbosity to 10 (on Linux, `export AUTOGRAPH_VERBOSITY=10`) and attach the full output. Cause: module 'gast' has no attribute 'Index'\n",
            "WARNING: Entity <bound method _DNNModel.call of <tensorflow_estimator.python.estimator.canned.dnn._DNNModel object at 0x7ffb5f42f510>> could not be transformed and will be executed as-is. Please report this to the AutoGraph team. When filing the bug, set the verbosity to 10 (on Linux, `export AUTOGRAPH_VERBOSITY=10`) and attach the full output. Cause: module 'gast' has no attribute 'Index'\n",
            "WARNING:tensorflow:From /tensorflow-1.15.2/python3.7/tensorflow_core/python/training/adagrad.py:76: calling Constant.__init__ (from tensorflow.python.ops.init_ops) with dtype is deprecated and will be removed in a future version.\n",
            "Instructions for updating:\n",
            "Call initializer instance with the dtype argument instead of passing it to the constructor\n",
            "INFO:tensorflow:Done calling model_fn.\n",
            "INFO:tensorflow:Create CheckpointSaverHook.\n",
            "INFO:tensorflow:Graph was finalized.\n",
            "INFO:tensorflow:Running local_init_op.\n",
            "INFO:tensorflow:Done running local_init_op.\n",
            "INFO:tensorflow:Saving checkpoints for 0 into /tmp/tmpmr6mowwo/model.ckpt.\n",
            "INFO:tensorflow:loss = 15.813445, step = 1\n",
            "INFO:tensorflow:global_step/sec: 321.905\n",
            "INFO:tensorflow:loss = 7.1236787, step = 101 (0.321 sec)\n",
            "WARNING:tensorflow:It seems that global step (tf.train.get_global_step) has not been increased. Current value (could be stable): 114 vs previous value: 114. You could increase the global step by passing tf.train.get_global_step() to Optimizer.apply_gradients or Optimizer.minimize.\n",
            "INFO:tensorflow:global_step/sec: 438.697\n",
            "INFO:tensorflow:loss = 7.0544434, step = 201 (0.230 sec)\n",
            "INFO:tensorflow:global_step/sec: 399.699\n",
            "INFO:tensorflow:loss = 6.0905375, step = 301 (0.242 sec)\n",
            "INFO:tensorflow:global_step/sec: 411.793\n",
            "WARNING:tensorflow:It seems that global step (tf.train.get_global_step) has not been increased. Current value (could be stable): 400 vs previous value: 400. You could increase the global step by passing tf.train.get_global_step() to Optimizer.apply_gradients or Optimizer.minimize.\n",
            "INFO:tensorflow:loss = 9.023617, step = 401 (0.246 sec)\n",
            "INFO:tensorflow:global_step/sec: 374.842\n",
            "INFO:tensorflow:loss = 4.568942, step = 501 (0.267 sec)\n",
            "WARNING:tensorflow:It seems that global step (tf.train.get_global_step) has not been increased. Current value (could be stable): 598 vs previous value: 598. You could increase the global step by passing tf.train.get_global_step() to Optimizer.apply_gradients or Optimizer.minimize.\n",
            "INFO:tensorflow:global_step/sec: 342.225\n",
            "INFO:tensorflow:loss = 5.0058584, step = 601 (0.296 sec)\n",
            "INFO:tensorflow:global_step/sec: 388.282\n",
            "INFO:tensorflow:loss = 5.369221, step = 701 (0.257 sec)\n",
            "INFO:tensorflow:global_step/sec: 385.762\n",
            "INFO:tensorflow:loss = 5.8833303, step = 801 (0.252 sec)\n",
            "INFO:tensorflow:global_step/sec: 485.537\n",
            "INFO:tensorflow:loss = 4.1237435, step = 901 (0.211 sec)\n",
            "INFO:tensorflow:Saving checkpoints for 1000 into /tmp/tmpmr6mowwo/model.ckpt.\n",
            "INFO:tensorflow:Loss for final step: 6.315961.\n"
          ],
          "name": "stdout"
        },
        {
          "output_type": "execute_result",
          "data": {
            "text/plain": [
              "<tensorflow_estimator.python.estimator.canned.dnn.DNNClassifier at 0x7ffb5f3f9d90>"
            ]
          },
          "metadata": {},
          "execution_count": 28
        }
      ]
    },
    {
      "cell_type": "code",
      "metadata": {
        "colab": {
          "base_uri": "https://localhost:8080/"
        },
        "id": "C19atWao-DMQ",
        "outputId": "a668eacb-c7e9-4c4a-e7b7-0328ab2a4e1d"
      },
      "source": [
        "eval_input_func = tf.estimator.inputs.pandas_input_fn(x=X_test,y=y_test,batch_size=10,shuffle=False)\n",
        "dnn_results = dnn_model.evaluate(eval_input_func)"
      ],
      "execution_count": 31,
      "outputs": [
        {
          "output_type": "stream",
          "text": [
            "INFO:tensorflow:Calling model_fn.\n",
            "WARNING:tensorflow:Entity <bound method _DNNModel.call of <tensorflow_estimator.python.estimator.canned.dnn._DNNModel object at 0x7ffb5f3fb710>> could not be transformed and will be executed as-is. Please report this to the AutoGraph team. When filing the bug, set the verbosity to 10 (on Linux, `export AUTOGRAPH_VERBOSITY=10`) and attach the full output. Cause: module 'gast' has no attribute 'Index'\n",
            "WARNING: Entity <bound method _DNNModel.call of <tensorflow_estimator.python.estimator.canned.dnn._DNNModel object at 0x7ffb5f3fb710>> could not be transformed and will be executed as-is. Please report this to the AutoGraph team. When filing the bug, set the verbosity to 10 (on Linux, `export AUTOGRAPH_VERBOSITY=10`) and attach the full output. Cause: module 'gast' has no attribute 'Index'\n",
            "WARNING:tensorflow:Trapezoidal rule is known to produce incorrect PR-AUCs; please switch to \"careful_interpolation\" instead.\n",
            "WARNING:tensorflow:Trapezoidal rule is known to produce incorrect PR-AUCs; please switch to \"careful_interpolation\" instead.\n",
            "INFO:tensorflow:Done calling model_fn.\n",
            "INFO:tensorflow:Starting evaluation at 2021-08-25T16:39:55Z\n",
            "INFO:tensorflow:Graph was finalized.\n",
            "INFO:tensorflow:Restoring parameters from /tmp/tmpmr6mowwo/model.ckpt-1000\n",
            "INFO:tensorflow:Running local_init_op.\n",
            "INFO:tensorflow:Done running local_init_op.\n",
            "INFO:tensorflow:Finished evaluation at 2021-08-25-16:39:55\n",
            "INFO:tensorflow:Saving dict for global step 1000: accuracy = 0.6968504, accuracy_baseline = 0.65748036, auc = 0.7419988, auc_precision_recall = 0.5761858, average_loss = 0.57905406, global_step = 1000, label/mean = 0.34251967, loss = 5.656913, precision = 0.55813956, prediction/mean = 0.37591588, recall = 0.55172414\n",
            "INFO:tensorflow:Saving 'checkpoint_path' summary for global step 1000: /tmp/tmpmr6mowwo/model.ckpt-1000\n"
          ],
          "name": "stdout"
        }
      ]
    },
    {
      "cell_type": "code",
      "metadata": {
        "colab": {
          "base_uri": "https://localhost:8080/"
        },
        "id": "l-WgzqP9KsXX",
        "outputId": "01b33644-34f3-46f8-a063-433215e041cf"
      },
      "source": [
        "print(results)\n",
        "print(\"\\n\")\n",
        "print(dnn_results)"
      ],
      "execution_count": 32,
      "outputs": [
        {
          "output_type": "stream",
          "text": [
            "{'accuracy': 0.71259844, 'accuracy_baseline': 0.65748036, 'auc': 0.78068, 'auc_precision_recall': 0.6270653, 'average_loss': 0.55570966, 'label/mean': 0.34251967, 'loss': 5.428856, 'precision': 0.5714286, 'prediction/mean': 0.4306703, 'recall': 0.6436782, 'global_step': 1000}\n",
            "\n",
            "\n",
            "{'accuracy': 0.6968504, 'accuracy_baseline': 0.65748036, 'auc': 0.7419988, 'auc_precision_recall': 0.5761858, 'average_loss': 0.57905406, 'label/mean': 0.34251967, 'loss': 5.656913, 'precision': 0.55813956, 'prediction/mean': 0.37591588, 'recall': 0.55172414, 'global_step': 1000}\n"
          ],
          "name": "stdout"
        }
      ]
    },
    {
      "cell_type": "code",
      "metadata": {
        "id": "oiB7Wtq5LoRu"
      },
      "source": [
        ""
      ],
      "execution_count": null,
      "outputs": []
    }
  ]
}