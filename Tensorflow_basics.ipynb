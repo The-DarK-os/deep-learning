{
  "nbformat": 4,
  "nbformat_minor": 0,
  "metadata": {
    "colab": {
      "name": "Tensorflow-basics.ipynb",
      "provenance": [],
      "collapsed_sections": [],
      "authorship_tag": "ABX9TyNzx8eC2kjnxXBQo3kSEMSD",
      "include_colab_link": true
    },
    "kernelspec": {
      "name": "python3",
      "display_name": "Python 3"
    },
    "language_info": {
      "name": "python"
    }
  },
  "cells": [
    {
      "cell_type": "markdown",
      "metadata": {
        "id": "view-in-github",
        "colab_type": "text"
      },
      "source": [
        "<a href=\"https://colab.research.google.com/github/The-DarK-os/deep-learning/blob/master/Tensorflow_basics.ipynb\" target=\"_parent\"><img src=\"https://colab.research.google.com/assets/colab-badge.svg\" alt=\"Open In Colab\"/></a>"
      ]
    },
    {
      "cell_type": "code",
      "metadata": {
        "colab": {
          "base_uri": "https://localhost:8080/"
        },
        "id": "9pNFmbs4huA5",
        "outputId": "30d4db95-18db-4b81-93bb-69eb283f1ed3"
      },
      "source": [
        "% tensorflow_version 1.3.0\n",
        "import tensorflow as tf\n",
        "print(tf.__version__)"
      ],
      "execution_count": 1,
      "outputs": [
        {
          "output_type": "stream",
          "text": [
            "`%tensorflow_version` only switches the major version: 1.x or 2.x.\n",
            "You set: `1.3.0`. This will be interpreted as: `1.x`.\n",
            "\n",
            "\n",
            "TensorFlow 1.x selected.\n",
            "1.15.2\n"
          ],
          "name": "stdout"
        }
      ]
    },
    {
      "cell_type": "code",
      "metadata": {
        "colab": {
          "base_uri": "https://localhost:8080/"
        },
        "id": "62Og3tSoh1MH",
        "outputId": "ab4d55eb-46e2-4d16-cfa7-a3e46fc88eda"
      },
      "source": [
        "hello = tf.constant(\"Hello \")\n",
        "world = tf.constant(\"World\")\n",
        "print(type(hello))\n",
        "print(hello)"
      ],
      "execution_count": 2,
      "outputs": [
        {
          "output_type": "stream",
          "text": [
            "<class 'tensorflow.python.framework.ops.Tensor'>\n",
            "Tensor(\"Const:0\", shape=(), dtype=string)\n"
          ],
          "name": "stdout"
        }
      ]
    },
    {
      "cell_type": "code",
      "metadata": {
        "colab": {
          "base_uri": "https://localhost:8080/"
        },
        "id": "BErwWYf1igs4",
        "outputId": "c2fc0be3-f3c8-4d85-c0d1-4274747148e3"
      },
      "source": [
        "with tf.Session() as sess:\n",
        "    result = sess.run(hello + world)\n",
        "\n",
        "print(result)"
      ],
      "execution_count": 3,
      "outputs": [
        {
          "output_type": "stream",
          "text": [
            "b'Hello World'\n"
          ],
          "name": "stdout"
        }
      ]
    },
    {
      "cell_type": "code",
      "metadata": {
        "colab": {
          "base_uri": "https://localhost:8080/"
        },
        "id": "pDSDKesEjA_w",
        "outputId": "e6dd463e-1754-44b3-af8b-281deff5024c"
      },
      "source": [
        "a = tf.constant(10)\n",
        "b = tf.constant(20)\n",
        "\n",
        "with tf.Session() as sess:\n",
        "    result = sess.run(a + b)\n",
        "print(result)"
      ],
      "execution_count": 4,
      "outputs": [
        {
          "output_type": "stream",
          "text": [
            "30\n"
          ],
          "name": "stdout"
        }
      ]
    },
    {
      "cell_type": "code",
      "metadata": {
        "colab": {
          "base_uri": "https://localhost:8080/"
        },
        "id": "vMQHy0zSjUPX",
        "outputId": "7d57f65d-9900-469c-a32a-383073039ed0"
      },
      "source": [
        "const = tf.constant(10)\n",
        "fill_mat = tf.fill((4,4),10)\n",
        "myzeros = tf.zeros((4,4))\n",
        "myones = tf.ones((4,4))\n",
        "myrandn = tf.random_normal((4,4),mean =0,stddev=1.0)\n",
        "myrandu = tf.random_uniform((4,4),minval=1,maxval=100)\n",
        "\n",
        "my_ops = [const,fill_mat,myzeros,myones,myrandn,myrandu]\n",
        "sess = tf.InteractiveSession()\n",
        "for op in my_ops:\n",
        "  print(sess.run(op))\n",
        "  print(\"\\n\")"
      ],
      "execution_count": 5,
      "outputs": [
        {
          "output_type": "stream",
          "text": [
            "10\n",
            "\n",
            "\n",
            "[[10 10 10 10]\n",
            " [10 10 10 10]\n",
            " [10 10 10 10]\n",
            " [10 10 10 10]]\n",
            "\n",
            "\n",
            "[[0. 0. 0. 0.]\n",
            " [0. 0. 0. 0.]\n",
            " [0. 0. 0. 0.]\n",
            " [0. 0. 0. 0.]]\n",
            "\n",
            "\n",
            "[[1. 1. 1. 1.]\n",
            " [1. 1. 1. 1.]\n",
            " [1. 1. 1. 1.]\n",
            " [1. 1. 1. 1.]]\n",
            "\n",
            "\n",
            "[[-1.8520833   1.9337419   0.18688537  0.37009844]\n",
            " [-0.14814566 -1.3597063  -0.36999524 -2.083477  ]\n",
            " [-0.45899054  1.6970389   0.15268362  1.3553015 ]\n",
            " [-0.4259027   1.8933915   0.95272416  2.2715664 ]]\n",
            "\n",
            "\n",
            "[[53.597786 45.24094  17.986486 15.765415]\n",
            " [64.18354  93.15328  10.79204  67.04203 ]\n",
            " [25.042227 60.91365  99.85597  54.868877]\n",
            " [ 2.057505 35.81505  46.006306 16.39342 ]]\n",
            "\n",
            "\n"
          ],
          "name": "stdout"
        }
      ]
    },
    {
      "cell_type": "code",
      "metadata": {
        "colab": {
          "base_uri": "https://localhost:8080/"
        },
        "id": "7fKuAO0SkbUZ",
        "outputId": "bd6ad6be-6a7e-4790-f939-2acb9fad9de8"
      },
      "source": [
        "a = tf.constant([ [1,2],\n",
        "                 [3,4] ])\n",
        "print(a.get_shape())\n",
        "\n",
        "b = tf.constant( [ [10], [100] ])\n",
        "print(b.get_shape())\n",
        "\n",
        "result = tf.matmul(a,b)\n",
        "sess.run(result)"
      ],
      "execution_count": 6,
      "outputs": [
        {
          "output_type": "stream",
          "text": [
            "(2, 2)\n",
            "(2, 1)\n"
          ],
          "name": "stdout"
        },
        {
          "output_type": "execute_result",
          "data": {
            "text/plain": [
              "array([[210],\n",
              "       [430]], dtype=int32)"
            ]
          },
          "metadata": {},
          "execution_count": 6
        }
      ]
    },
    {
      "cell_type": "code",
      "metadata": {
        "colab": {
          "base_uri": "https://localhost:8080/"
        },
        "id": "0uqbRdg_k7AA",
        "outputId": "64f7731a-cfc8-43b7-91d2-e872d4912b2a"
      },
      "source": [
        "n1 = tf.constant(1)\n",
        "n2 = tf.constant(2)\n",
        "n3 = n1 + n2\n",
        "\n",
        "with tf.Session() as sess:\n",
        "  result = sess.run(n3)\n",
        "print(result)"
      ],
      "execution_count": 7,
      "outputs": [
        {
          "output_type": "stream",
          "text": [
            "3\n"
          ],
          "name": "stdout"
        }
      ]
    },
    {
      "cell_type": "code",
      "metadata": {
        "colab": {
          "base_uri": "https://localhost:8080/"
        },
        "id": "hiZ1VIFpl0nH",
        "outputId": "6f86aa92-71f7-43e5-9da3-00fb06da0c5c"
      },
      "source": [
        "graph = tf.Graph()\n",
        "print(graph)"
      ],
      "execution_count": 8,
      "outputs": [
        {
          "output_type": "stream",
          "text": [
            "<tensorflow.python.framework.ops.Graph object at 0x7f1992ca52d0>\n"
          ],
          "name": "stdout"
        }
      ]
    },
    {
      "cell_type": "code",
      "metadata": {
        "colab": {
          "base_uri": "https://localhost:8080/"
        },
        "id": "nbgXv2PUmEEP",
        "outputId": "1f894739-26c7-4558-a55b-7fada53bce29"
      },
      "source": [
        "graph_one = tf.get_default_graph()\n",
        "graph_two = tf.Graph()\n",
        "\n",
        "with graph_two.as_default():\n",
        "    print(graph_two is tf.get_default_graph)\n",
        "    print(graph_two)\n",
        "    print(tf.get_default_graph)"
      ],
      "execution_count": 9,
      "outputs": [
        {
          "output_type": "stream",
          "text": [
            "False\n",
            "<tensorflow.python.framework.ops.Graph object at 0x7f1992cb9410>\n",
            "<function get_default_graph at 0x7f19a7bfbd40>\n"
          ],
          "name": "stdout"
        }
      ]
    },
    {
      "cell_type": "code",
      "metadata": {
        "colab": {
          "base_uri": "https://localhost:8080/"
        },
        "id": "IP5FwozTmZBQ",
        "outputId": "7278f2ef-0035-46fa-8f1e-da3c4618d1de"
      },
      "source": [
        "sess = tf.InteractiveSession()\n",
        "my_tensor = tf.random_uniform((4,4),0,1)\n",
        "my_var = tf.Variable(initial_value=my_tensor)\n",
        "init = tf.global_variables_initializer()\n",
        "sess.run(init)\n",
        "sess.run(my_var)"
      ],
      "execution_count": 10,
      "outputs": [
        {
          "output_type": "stream",
          "text": [
            "/tensorflow-1.15.2/python3.7/tensorflow_core/python/client/session.py:1750: UserWarning: An interactive session is already active. This can cause out-of-memory errors in some cases. You must explicitly call `InteractiveSession.close()` to release resources held by the other session(s).\n",
            "  warnings.warn('An interactive session is already active. This can '\n"
          ],
          "name": "stderr"
        },
        {
          "output_type": "execute_result",
          "data": {
            "text/plain": [
              "array([[0.04975986, 0.99581766, 0.10242879, 0.40041912],\n",
              "       [0.19080007, 0.8801094 , 0.17366719, 0.37761295],\n",
              "       [0.9700115 , 0.48207593, 0.30596864, 0.955881  ],\n",
              "       [0.5483284 , 0.53536594, 0.4511162 , 0.5529852 ]], dtype=float32)"
            ]
          },
          "metadata": {},
          "execution_count": 10
        }
      ]
    },
    {
      "cell_type": "code",
      "metadata": {
        "id": "T8PRK7DSm3l3"
      },
      "source": [
        "ph = tf.placeholder(tf.float32,shape =(None,5))"
      ],
      "execution_count": 11,
      "outputs": []
    },
    {
      "cell_type": "markdown",
      "metadata": {
        "id": "JDP4BI3U0P43"
      },
      "source": [
        "## **Simple Regression**"
      ]
    },
    {
      "cell_type": "code",
      "metadata": {
        "id": "8xuAQKo1onv-"
      },
      "source": [
        "import numpy as np\n",
        "np.random.seed(101)\n",
        "tf.set_random_seed(101)"
      ],
      "execution_count": 12,
      "outputs": []
    },
    {
      "cell_type": "code",
      "metadata": {
        "id": "XuCV8v_Rm7fH"
      },
      "source": [
        "rand_a = np.random.uniform(0,100,(5,5))\n",
        "rand_b = np.random.uniform(0,100,(5,1))"
      ],
      "execution_count": 13,
      "outputs": []
    },
    {
      "cell_type": "code",
      "metadata": {
        "id": "ny_5QJ3iKs52"
      },
      "source": [
        ""
      ],
      "execution_count": 13,
      "outputs": []
    },
    {
      "cell_type": "code",
      "metadata": {
        "id": "YVwa52R6qvae"
      },
      "source": [
        "a = tf.placeholder(tf.float32)\n",
        "b = tf.placeholder(tf.float32)\n",
        "\n",
        "add_op = a+b\n",
        "\n",
        "mul_op = a*b"
      ],
      "execution_count": 14,
      "outputs": []
    },
    {
      "cell_type": "code",
      "metadata": {
        "colab": {
          "base_uri": "https://localhost:8080/"
        },
        "id": "tWKGfr6JrD9P",
        "outputId": "b3ec8987-ecab-4aaf-c4e9-ff7a68e45d40"
      },
      "source": [
        "with tf.Session() as sess:\n",
        "  add_result = sess.run(add_op,feed_dict = {a:rand_a,b:rand_b})\n",
        "  mult_result = sess.run(mul_op , feed_dict = {a:rand_a,b:rand_b})\n",
        "\n",
        "print(add_result)\n",
        "print(\"\\n\")\n",
        "print(mult_result)"
      ],
      "execution_count": 15,
      "outputs": [
        {
          "output_type": "stream",
          "text": [
            "[[151.07166  156.49855  102.27921  116.58396  167.95949 ]\n",
            " [135.45622   82.76316  141.42784  124.22093   71.06043 ]\n",
            " [113.30171   93.09215   76.06819  136.43912  154.42728 ]\n",
            " [ 96.71727   81.83804  133.83675  146.38118  101.10579 ]\n",
            " [122.72681  105.982925  59.044632  67.9831    72.89292 ]]\n",
            "\n",
            "\n",
            "[[5134.644   5674.25     283.12433 1705.4707  6813.8315 ]\n",
            " [4341.8125  1598.267   4652.734   3756.8293   988.94635]\n",
            " [3207.8113  2038.1029  1052.7742  4546.9805  5588.1157 ]\n",
            " [1707.379    614.02527 4434.989   5356.7773  2029.8555 ]\n",
            " [3714.0984  2806.6438   262.76764  747.19855 1013.292  ]]\n"
          ],
          "name": "stdout"
        }
      ]
    },
    {
      "cell_type": "code",
      "metadata": {
        "id": "8ilh6fTvrXH_"
      },
      "source": [
        "n_features = 10\n",
        "n_dense_neurons = 3\n",
        "\n",
        "x = tf.placeholder(tf.float32,(None,n_features))\n",
        "W = tf.Variable(tf.random_normal([n_features,n_dense_neurons]))\n",
        "b = tf.Variable(tf.ones([n_dense_neurons]))\n",
        "\n",
        "xW = tf.matmul(x,W)\n",
        "z = tf.add(xW,b)\n",
        "a = tf.sigmoid(z)"
      ],
      "execution_count": 16,
      "outputs": []
    },
    {
      "cell_type": "code",
      "metadata": {
        "colab": {
          "base_uri": "https://localhost:8080/"
        },
        "id": "Vf57lUxytLI3",
        "outputId": "d80265a5-31bf-473d-db7e-417f64a047c1"
      },
      "source": [
        "init = tf.global_variables_initializer()\n",
        "with tf.Session() as sess:\n",
        "  sess.run(init)\n",
        "  layer_out = sess.run(a,feed_dict = {x:np.random.random([1,n_features])})\n",
        "print(layer_out)"
      ],
      "execution_count": 17,
      "outputs": [
        {
          "output_type": "stream",
          "text": [
            "[[0.79932886 0.6884799  0.995776  ]]\n"
          ],
          "name": "stdout"
        }
      ]
    },
    {
      "cell_type": "code",
      "metadata": {
        "id": "4qaJtYYWtok9"
      },
      "source": [
        "x_data = np.linspace(0,10,10) + np.random.uniform(-1.5,1.5,10)\n",
        "y_label = np.linspace(0,10,10) + np.random.uniform(-1.5,1.5,10)"
      ],
      "execution_count": 18,
      "outputs": []
    },
    {
      "cell_type": "code",
      "metadata": {
        "colab": {
          "base_uri": "https://localhost:8080/",
          "height": 282
        },
        "id": "2UdGOkugvoom",
        "outputId": "fdcf70dc-0a65-4f25-8139-1e66d599922f"
      },
      "source": [
        "import matplotlib.pyplot as plt\n",
        "plt.plot(x_data,y_label,\"o\")"
      ],
      "execution_count": 19,
      "outputs": [
        {
          "output_type": "execute_result",
          "data": {
            "text/plain": [
              "[<matplotlib.lines.Line2D at 0x7f19913eb050>]"
            ]
          },
          "metadata": {},
          "execution_count": 19
        },
        {
          "output_type": "display_data",
          "data": {
            "image/png": "[encoded data removed]",
            "text/plain": [
              "<Figure size 432x288 with 1 Axes>"
            ]
          },
          "metadata": {
            "needs_background": "light"
          }
        }
      ]
    },
    {
      "cell_type": "code",
      "metadata": {
        "colab": {
          "base_uri": "https://localhost:8080/"
        },
        "id": "RsUmg5bbwadN",
        "outputId": "801856d6-7cda-41ca-c1c2-de9c237fec14"
      },
      "source": [
        "m = tf.Variable(np.random.rand(1))\n",
        "b = tf.Variable(np.random.rand(1))\n",
        "error = 0\n",
        "for x,y in zip(x_data,y_label):\n",
        "  y_hat = m*x + b\n",
        "  error += (y-y_hat)**2\n",
        "\n",
        "optimizer = tf.train.GradientDescentOptimizer(learning_rate=0.001)\n",
        "train = optimizer.minimize(error)"
      ],
      "execution_count": 20,
      "outputs": [
        {
          "output_type": "stream",
          "text": [
            "WARNING:tensorflow:From /tensorflow-1.15.2/python3.7/tensorflow_core/python/ops/math_grad.py:1375: where (from tensorflow.python.ops.array_ops) is deprecated and will be removed in a future version.\n",
            "Instructions for updating:\n",
            "Use tf.where in 2.0, which has the same broadcast rule as np.where\n"
          ],
          "name": "stdout"
        }
      ]
    },
    {
      "cell_type": "code",
      "metadata": {
        "id": "0o6AQ75vzP3m"
      },
      "source": [
        "init = tf.global_variables_initializer()\n",
        "with tf.Session() as sess:\n",
        "  sess.run(init)\n",
        "  training_steps = 1000\n",
        "  for i in range(training_steps):\n",
        "    sess.run(train)\n",
        "  final_slope , final_intercept = sess.run([m,b])"
      ],
      "execution_count": 21,
      "outputs": []
    },
    {
      "cell_type": "code",
      "metadata": {
        "colab": {
          "base_uri": "https://localhost:8080/",
          "height": 282
        },
        "id": "0QlUhtgl06l1",
        "outputId": "a53293ee-349f-4da7-9944-5a10d1210a98"
      },
      "source": [
        "x_test = np.linspace(-1,11,10)\n",
        "y_pred_plot = final_slope * x_test + final_intercept\n",
        "plt.plot(x_test,y_pred_plot,\"r\")\n",
        "plt.plot(x_data,y_label,\"o\")"
      ],
      "execution_count": 22,
      "outputs": [
        {
          "output_type": "execute_result",
          "data": {
            "text/plain": [
              "[<matplotlib.lines.Line2D at 0x7f1990d91e50>]"
            ]
          },
          "metadata": {},
          "execution_count": 22
        },
        {
          "output_type": "display_data",
          "data": {
            "image/png": "[encoded data removed]",
            "text/plain": [
              "<Figure size 432x288 with 1 Axes>"
            ]
          },
          "metadata": {
            "needs_background": "light"
          }
        }
      ]
    },
    {
      "cell_type": "code",
      "metadata": {
        "id": "8fsQa_-u1MZc"
      },
      "source": [
        ""
      ],
      "execution_count": 22,
      "outputs": []
    },
    {
      "cell_type": "markdown",
      "metadata": {
        "id": "d01_4EDqCBez"
      },
      "source": [
        "# Another example\n"
      ]
    },
    {
      "cell_type": "code",
      "metadata": {
        "colab": {
          "base_uri": "https://localhost:8080/"
        },
        "id": "iyVT-0TsCEiO",
        "outputId": "3701f9d4-5044-4b67-9ae9-8a3b4db26d87"
      },
      "source": [
        "rand_x = np.random.uniform(low=1,high=10,size =(5,5))\n",
        "rand_y = np.random.uniform(low=1,high=10,size=(5,1))\n",
        "print(rand_y)"
      ],
      "execution_count": 23,
      "outputs": [
        {
          "output_type": "stream",
          "text": [
            "[[3.04890304]\n",
            " [1.43351997]\n",
            " [9.13574222]\n",
            " [1.72093185]\n",
            " [6.46494645]]\n"
          ],
          "name": "stdout"
        }
      ]
    },
    {
      "cell_type": "code",
      "metadata": {
        "id": "V4lyLHLmC1Yx"
      },
      "source": [
        "ph_1 = tf.placeholder(tf.float32)\n",
        "ph_2 = tf.placeholder(tf.float32)\n",
        "\n",
        "add_op = ph_1 + ph_2\n",
        "mul_op = ph_1 * ph_2"
      ],
      "execution_count": 24,
      "outputs": []
    },
    {
      "cell_type": "code",
      "metadata": {
        "colab": {
          "base_uri": "https://localhost:8080/"
        },
        "id": "7lrCt0yWJQSv",
        "outputId": "197a8b11-4136-47d4-9fa5-699132330fbd"
      },
      "source": [
        "init = tf.global_variables_initializer()\n",
        "with tf.Session() as sess:\n",
        "  sess.run(init)\n",
        "  addition = sess.run(add_op,feed_dict = {ph_1: rand_x , ph_2 : rand_y})\n",
        "  multiplication = sess.run(mul_op,feed_dict = {ph_1: rand_x , ph_2: rand_y})\n",
        "\n",
        "print(addition)\n",
        "print(\"\\n\")\n",
        "print(multiplication)"
      ],
      "execution_count": 25,
      "outputs": [
        {
          "output_type": "stream",
          "text": [
            "[[12.592279   8.352409   8.1989765  9.784504   6.970375 ]\n",
            " [ 3.4917226  2.8934288  8.172448   9.743914   8.465864 ]\n",
            " [16.001652  13.956862  16.045101  12.018196  16.075062 ]\n",
            " [ 7.4875426  9.457615   3.5647435  9.781629   8.90611  ]\n",
            " [13.720653  11.936745  16.243196   9.296695  10.15613  ]]\n",
            "\n",
            "\n",
            "[[29.09683   16.169878  15.702076  20.536196  11.956188 ]\n",
            " [ 2.9504747  2.0928087  9.660388  11.913115  10.081005 ]\n",
            " [62.725174  44.04451   63.122112  26.333351  63.395844 ]\n",
            " [ 9.923944  13.314305   3.1730745 13.87191   12.365202 ]\n",
            " [46.907753  35.374886  63.21586   18.307102  23.863304 ]]\n"
          ],
          "name": "stdout"
        }
      ]
    },
    {
      "cell_type": "code",
      "metadata": {
        "id": "IbuTTVM8L2kt"
      },
      "source": [
        "n_features = 10\n",
        "n_neurons = 3\n",
        "\n",
        "x = tf.placeholder(tf.float32 , [None , n_features])\n",
        "W = tf.Variable(tf.random_normal([n_features,n_neurons]))\n",
        "b = tf.Variable(tf.ones([n_neurons]))\n",
        "\n",
        "\n",
        "xW = tf.matmul(x,W)\n",
        "z = tf.add(xW,b)\n",
        "a = tf.sigmoid(z)"
      ],
      "execution_count": 26,
      "outputs": []
    },
    {
      "cell_type": "code",
      "metadata": {
        "colab": {
          "base_uri": "https://localhost:8080/"
        },
        "id": "W79YRFloNKVe",
        "outputId": "b0dd1de5-2046-4dca-ef61-49c84d15a699"
      },
      "source": [
        "init = tf.global_variables_initializer()\n",
        "\n",
        "with tf.Session() as sess:\n",
        "  sess.run(init)\n",
        "  layer_output = sess.run(a , feed_dict = {x: np.random.random([1,n_features])})\n",
        "layer_output"
      ],
      "execution_count": 27,
      "outputs": [
        {
          "output_type": "execute_result",
          "data": {
            "text/plain": [
              "array([[0.9730822, 0.7528964, 0.1333703]], dtype=float32)"
            ]
          },
          "metadata": {},
          "execution_count": 27
        }
      ]
    },
    {
      "cell_type": "code",
      "metadata": {
        "colab": {
          "base_uri": "https://localhost:8080/",
          "height": 282
        },
        "id": "G0U3BMExOTL2",
        "outputId": "f7ed67d5-c4f4-40c2-ff9c-8fae511e01c1"
      },
      "source": [
        "from sklearn.datasets import make_blobs\n",
        "data = make_blobs()\n",
        "x_data = np.linspace(1,11,10) + np.random.uniform(-1,1.5,10)\n",
        "y_label = np.linspace(1,11,10) + np.random.uniform(-1,1.5,10)\n",
        "plt.plot(x_data,y_label,\"o\")"
      ],
      "execution_count": 28,
      "outputs": [
        {
          "output_type": "execute_result",
          "data": {
            "text/plain": [
              "[<matplotlib.lines.Line2D at 0x7f1988a96090>]"
            ]
          },
          "metadata": {},
          "execution_count": 28
        },
        {
          "output_type": "display_data",
          "data": {
            "image/png": "[encoded data removed]",
            "text/plain": [
              "<Figure size 432x288 with 1 Axes>"
            ]
          },
          "metadata": {
            "needs_background": "light"
          }
        }
      ]
    },
    {
      "cell_type": "code",
      "metadata": {
        "id": "zviPJ6CEPDTU"
      },
      "source": [
        "m = tf.Variable(np.random.rand(1))\n",
        "b = tf.Variable(np.random.rand(1))\n",
        "\n",
        "errors = 0\n",
        "\n",
        "for x,y in zip(x_data,y_label):\n",
        "  y_hat = m*x + b\n",
        "  errors += (y-y_hat)**2\n",
        "optimizer = tf.train.GradientDescentOptimizer(learning_rate=0.00001)\n",
        "train = optimizer.minimize(errors)"
      ],
      "execution_count": 29,
      "outputs": []
    },
    {
      "cell_type": "code",
      "metadata": {
        "id": "SPsyM_37Pd9V"
      },
      "source": [
        "init = tf.global_variables_initializer()\n",
        "with tf.Session() as sess:\n",
        "  sess.run(init)\n",
        "  training_epoch = 1000\n",
        "  for i in range(training_epoch):\n",
        "    sess.run(train)\n",
        "  final_slope , final_intercept = sess.run([m,b])\n"
      ],
      "execution_count": 30,
      "outputs": []
    },
    {
      "cell_type": "code",
      "metadata": {
        "colab": {
          "base_uri": "https://localhost:8080/",
          "height": 282
        },
        "id": "lQey-JOVS9tt",
        "outputId": "c9e31623-3832-4775-cb4c-9ae54b8dfce5"
      },
      "source": [
        "x_test = np.linspace(-1,11,15)\n",
        "y_test_plot = final_slope * x_test + final_intercept\n",
        "\n",
        "plt.plot(y_test_plot , \"--r\")\n",
        "plt.plot(x_data,y_label,\"o\")"
      ],
      "execution_count": 31,
      "outputs": [
        {
          "output_type": "execute_result",
          "data": {
            "text/plain": [
              "[<matplotlib.lines.Line2D at 0x7f19889420d0>]"
            ]
          },
          "metadata": {},
          "execution_count": 31
        },
        {
          "output_type": "display_data",
          "data": {
            "image/png": "[encoded data removed]",
            "text/plain": [
              "<Figure size 432x288 with 1 Axes>"
            ]
          },
          "metadata": {
            "needs_background": "light"
          }
        }
      ]
    },
    {
      "cell_type": "markdown",
      "metadata": {
        "id": "vsC0tUc0KO9u"
      },
      "source": [
        "# **Sample Regression task**"
      ]
    },
    {
      "cell_type": "code",
      "metadata": {
        "colab": {
          "base_uri": "https://localhost:8080/",
          "height": 204
        },
        "id": "e-r218WLT_mV",
        "outputId": "979629d7-0a32-4d69-b29c-c7a7505f9150"
      },
      "source": [
        "import pandas as pd\n",
        "x_data = np.linspace(0.0,10.0 , 1000000)\n",
        "noise = np.random.randn(len(x_data))\n",
        "y_true = (0.5 * x_data) + 5 + noise\n",
        "\n",
        "x_df = pd.DataFrame(data = x_data,columns = [\"X Data\"])\n",
        "y_df = pd.DataFrame(data = y_true , columns = [\"Y Data\"])\n",
        "\n",
        "\n",
        "my_data = pd.concat([x_df,y_df],axis=1)\n",
        "my_data.head()"
      ],
      "execution_count": 34,
      "outputs": [
        {
          "output_type": "execute_result",
          "data": {
            "text/html": [
              "<div>\n",
              "<style scoped>\n",
              "    .dataframe tbody tr th:only-of-type {\n",
              "        vertical-align: middle;\n",
              "    }\n",
              "\n",
              "    .dataframe tbody tr th {\n",
              "        vertical-align: top;\n",
              "    }\n",
              "\n",
              "    .dataframe thead th {\n",
              "        text-align: right;\n",
              "    }\n",
              "</style>\n",
              "<table border=\"1\" class=\"dataframe\">\n",
              "  <thead>\n",
              "    <tr style=\"text-align: right;\">\n",
              "      <th></th>\n",
              "      <th>X Data</th>\n",
              "      <th>Y Data</th>\n",
              "    </tr>\n",
              "  </thead>\n",
              "  <tbody>\n",
              "    <tr>\n",
              "      <th>0</th>\n",
              "      <td>0.00000</td>\n",
              "      <td>5.241332</td>\n",
              "    </tr>\n",
              "    <tr>\n",
              "      <th>1</th>\n",
              "      <td>0.00001</td>\n",
              "      <td>5.952007</td>\n",
              "    </tr>\n",
              "    <tr>\n",
              "      <th>2</th>\n",
              "      <td>0.00002</td>\n",
              "      <td>5.984872</td>\n",
              "    </tr>\n",
              "    <tr>\n",
              "      <th>3</th>\n",
              "      <td>0.00003</td>\n",
              "      <td>4.970151</td>\n",
              "    </tr>\n",
              "    <tr>\n",
              "      <th>4</th>\n",
              "      <td>0.00004</td>\n",
              "      <td>3.734034</td>\n",
              "    </tr>\n",
              "  </tbody>\n",
              "</table>\n",
              "</div>"
            ],
            "text/plain": [
              "    X Data    Y Data\n",
              "0  0.00000  5.241332\n",
              "1  0.00001  5.952007\n",
              "2  0.00002  5.984872\n",
              "3  0.00003  4.970151\n",
              "4  0.00004  3.734034"
            ]
          },
          "metadata": {},
          "execution_count": 34
        }
      ]
    },
    {
      "cell_type": "code",
      "metadata": {
        "colab": {
          "base_uri": "https://localhost:8080/",
          "height": 296
        },
        "id": "E-BnXzkrKGCq",
        "outputId": "0f184e11-b822-48cf-906a-543100f4cce2"
      },
      "source": [
        "my_data.sample(n=250).plot(kind= \"scatter\",x=\"X Data\",y=\"Y Data\")"
      ],
      "execution_count": 38,
      "outputs": [
        {
          "output_type": "execute_result",
          "data": {
            "text/plain": [
              "<matplotlib.axes._subplots.AxesSubplot at 0x7f1984e1e4d0>"
            ]
          },
          "metadata": {},
          "execution_count": 38
        },
        {
          "output_type": "display_data",
          "data": {
            "image/png": "[encoded data removed]",
            "text/plain": [
              "<Figure size 432x288 with 1 Axes>"
            ]
          },
          "metadata": {
            "needs_background": "light"
          }
        }
      ]
    },
    {
      "cell_type": "code",
      "metadata": {
        "id": "nBKA1vJQVIkP"
      },
      "source": [
        "batch_size = 8\n",
        "m = tf.Variable(0.81)\n",
        "b = tf.Variable(0.17)\n",
        "\n",
        "xph = tf.placeholder(tf.float32,[batch_size])\n",
        "yph = tf.placeholder(tf.float32,[batch_size])\n",
        "\n",
        "y_model = m*xph + b\n",
        "error = tf.reduce_sum(tf.square(yph-y_model))\n",
        "optimizer = tf.train.GradientDescentOptimizer(learning_rate=0.001)\n",
        "train = optimizer.minimize(error)"
      ],
      "execution_count": 41,
      "outputs": []
    },
    {
      "cell_type": "code",
      "metadata": {
        "id": "VgrS4lz8XcaX"
      },
      "source": [
        "init = tf.global_variables_initializer()\n",
        "with tf.Session() as sess:\n",
        "  sess.run(init)\n",
        "  batches = 10000\n",
        "  for i in range(batches):\n",
        "    rand_ind = np.random.randint(len(x_data),size=batch_size)\n",
        "    feed = {xph: x_data[rand_ind],yph: y_true[rand_ind]}\n",
        "    sess.run(train,feed_dict=feed) \n",
        "  model_m , model_b = sess.run([m,b])"
      ],
      "execution_count": 44,
      "outputs": []
    },
    {
      "cell_type": "code",
      "metadata": {
        "colab": {
          "base_uri": "https://localhost:8080/",
          "height": 296
        },
        "id": "EqnnHWSmZEoA",
        "outputId": "8e94b141-9384-44e8-9cf2-40438496c02c"
      },
      "source": [
        "y_hat = x_data * model_m + model_b\n",
        "my_data.sample(250).plot(kind=\"scatter\",x=\"X Data\",y=\"Y Data\")\n",
        "plt.plot(x_data,y_hat,\"r\")"
      ],
      "execution_count": 45,
      "outputs": [
        {
          "output_type": "execute_result",
          "data": {
            "text/plain": [
              "[<matplotlib.lines.Line2D at 0x7f197d651c50>]"
            ]
          },
          "metadata": {},
          "execution_count": 45
        },
        {
          "output_type": "display_data",
          "data": {
            "image/png": "[encoded data removed]",
            "text/plain": [
              "<Figure size 432x288 with 1 Axes>"
            ]
          },
          "metadata": {
            "needs_background": "light"
          }
        }
      ]
    },
    {
      "cell_type": "markdown",
      "metadata": {
        "id": "jpmQFMxckuDa"
      },
      "source": [
        "# **Estimator**"
      ]
    },
    {
      "cell_type": "code",
      "metadata": {
        "colab": {
          "base_uri": "https://localhost:8080/"
        },
        "id": "toRaPcIHZ5E-",
        "outputId": "9beadc8d-ea15-48e2-d155-72f744719fa7"
      },
      "source": [
        "feat_cols = [tf.feature_column.numeric_column(\"x\",shape=[1])]\n",
        "estimator = tf.estimator.LinearRegressor(feature_columns=feat_cols)"
      ],
      "execution_count": 47,
      "outputs": [
        {
          "output_type": "stream",
          "text": [
            "INFO:tensorflow:Using default config.\n",
            "WARNING:tensorflow:Using temporary folder as model directory: /tmp/tmpwra8xkuj\n",
            "INFO:tensorflow:Using config: {'_model_dir': '/tmp/tmpwra8xkuj', '_tf_random_seed': None, '_save_summary_steps': 100, '_save_checkpoints_steps': None, '_save_checkpoints_secs': 600, '_session_config': allow_soft_placement: true\n",
            "graph_options {\n",
            "  rewrite_options {\n",
            "    meta_optimizer_iterations: ONE\n",
            "  }\n",
            "}\n",
            ", '_keep_checkpoint_max': 5, '_keep_checkpoint_every_n_hours': 10000, '_log_step_count_steps': 100, '_train_distribute': None, '_device_fn': None, '_protocol': None, '_eval_distribute': None, '_experimental_distribute': None, '_experimental_max_worker_delay_secs': None, '_session_creation_timeout_secs': 7200, '_service': None, '_cluster_spec': <tensorflow.python.training.server_lib.ClusterSpec object at 0x7f197d37f310>, '_task_type': 'worker', '_task_id': 0, '_global_id_in_cluster': 0, '_master': '', '_evaluation_master': '', '_is_chief': True, '_num_ps_replicas': 0, '_num_worker_replicas': 1}\n"
          ],
          "name": "stdout"
        }
      ]
    },
    {
      "cell_type": "code",
      "metadata": {
        "id": "DsjX3a2feaI2"
      },
      "source": [
        "from sklearn.model_selection import train_test_split\n",
        "x_train,x_test,y_train,y_test = train_test_split(x_data,y_true,test_size=0.3,random_state=101)"
      ],
      "execution_count": 48,
      "outputs": []
    },
    {
      "cell_type": "code",
      "metadata": {
        "id": "RyzQWkM8e1n9"
      },
      "source": [
        "input_func = tf.estimator.inputs.numpy_input_fn({\"x\":x_train},y_train,batch_size=8,num_epochs=None,shuffle=True)\n",
        "\n",
        "train_input_func = tf.estimator.inputs.numpy_input_fn({\"x\":x_train},y_train,batch_size=8,num_epochs=1000,shuffle=False)\n",
        "\n",
        "test_input_func = tf.estimator.inputs.numpy_input_fn({\"x\":x_test},y_test,batch_size=8,num_epochs=1000,shuffle=False)"
      ],
      "execution_count": 51,
      "outputs": []
    },
    {
      "cell_type": "code",
      "metadata": {
        "colab": {
          "base_uri": "https://localhost:8080/"
        },
        "id": "OHiL7hlve8HV",
        "outputId": "1a8f568c-c850-4d65-94eb-e83c277c7578"
      },
      "source": [
        "estimator.train(input_fn=input_func,steps=1000)"
      ],
      "execution_count": 52,
      "outputs": [
        {
          "output_type": "stream",
          "text": [
            "WARNING:tensorflow:From /tensorflow-1.15.2/python3.7/tensorflow_core/python/training/training_util.py:236: Variable.initialized_value (from tensorflow.python.ops.variables) is deprecated and will be removed in a future version.\n",
            "Instructions for updating:\n",
            "Use Variable.read_value. Variables in 2.X are initialized automatically both in eager and graph (inside tf.defun) contexts.\n",
            "WARNING:tensorflow:From /tensorflow-1.15.2/python3.7/tensorflow_estimator/python/estimator/inputs/queues/feeding_queue_runner.py:62: QueueRunner.__init__ (from tensorflow.python.training.queue_runner_impl) is deprecated and will be removed in a future version.\n",
            "Instructions for updating:\n",
            "To construct input pipelines, use the `tf.data` module.\n",
            "WARNING:tensorflow:From /tensorflow-1.15.2/python3.7/tensorflow_estimator/python/estimator/inputs/queues/feeding_functions.py:500: add_queue_runner (from tensorflow.python.training.queue_runner_impl) is deprecated and will be removed in a future version.\n",
            "Instructions for updating:\n",
            "To construct input pipelines, use the `tf.data` module.\n",
            "INFO:tensorflow:Calling model_fn.\n",
            "WARNING:tensorflow:From /tensorflow-1.15.2/python3.7/tensorflow_core/python/feature_column/feature_column_v2.py:305: Layer.add_variable (from tensorflow.python.keras.engine.base_layer) is deprecated and will be removed in a future version.\n",
            "Instructions for updating:\n",
            "Please use `layer.add_weight` method instead.\n",
            "WARNING:tensorflow:From /tensorflow-1.15.2/python3.7/tensorflow_core/python/ops/resource_variable_ops.py:1630: calling BaseResourceVariable.__init__ (from tensorflow.python.ops.resource_variable_ops) with constraint is deprecated and will be removed in a future version.\n",
            "Instructions for updating:\n",
            "If using Keras pass *_constraint arguments to layers.\n",
            "WARNING:tensorflow:From /tensorflow-1.15.2/python3.7/tensorflow_estimator/python/estimator/canned/linear.py:308: to_float (from tensorflow.python.ops.math_ops) is deprecated and will be removed in a future version.\n",
            "Instructions for updating:\n",
            "Use `tf.cast` instead.\n",
            "INFO:tensorflow:Done calling model_fn.\n",
            "INFO:tensorflow:Create CheckpointSaverHook.\n",
            "INFO:tensorflow:Graph was finalized.\n",
            "INFO:tensorflow:Running local_init_op.\n",
            "INFO:tensorflow:Done running local_init_op.\n",
            "WARNING:tensorflow:From /tensorflow-1.15.2/python3.7/tensorflow_core/python/training/monitored_session.py:882: start_queue_runners (from tensorflow.python.training.queue_runner_impl) is deprecated and will be removed in a future version.\n",
            "Instructions for updating:\n",
            "To construct input pipelines, use the `tf.data` module.\n",
            "INFO:tensorflow:Saving checkpoints for 0 into /tmp/tmpwra8xkuj/model.ckpt.\n",
            "INFO:tensorflow:loss = 662.2175, step = 1\n",
            "WARNING:tensorflow:It seems that global step (tf.train.get_global_step) has not been increased. Current value (could be stable): 98 vs previous value: 98. You could increase the global step by passing tf.train.get_global_step() to Optimizer.apply_gradients or Optimizer.minimize.\n",
            "INFO:tensorflow:global_step/sec: 618.714\n",
            "INFO:tensorflow:loss = 17.101704, step = 101 (0.167 sec)\n",
            "INFO:tensorflow:global_step/sec: 748.658\n",
            "INFO:tensorflow:loss = 20.800894, step = 201 (0.132 sec)\n",
            "INFO:tensorflow:global_step/sec: 759.311\n",
            "INFO:tensorflow:loss = 18.087643, step = 301 (0.132 sec)\n",
            "INFO:tensorflow:global_step/sec: 739.666\n",
            "INFO:tensorflow:loss = 3.219144, step = 401 (0.136 sec)\n",
            "INFO:tensorflow:global_step/sec: 730.441\n",
            "INFO:tensorflow:loss = 10.21031, step = 501 (0.136 sec)\n",
            "INFO:tensorflow:global_step/sec: 793.869\n",
            "INFO:tensorflow:loss = 12.948341, step = 601 (0.128 sec)\n",
            "INFO:tensorflow:global_step/sec: 700.682\n",
            "INFO:tensorflow:loss = 14.683701, step = 701 (0.143 sec)\n",
            "INFO:tensorflow:global_step/sec: 735.595\n",
            "INFO:tensorflow:loss = 1.9979277, step = 801 (0.132 sec)\n",
            "INFO:tensorflow:global_step/sec: 803.499\n",
            "INFO:tensorflow:loss = 14.130397, step = 901 (0.128 sec)\n",
            "INFO:tensorflow:Saving checkpoints for 1000 into /tmp/tmpwra8xkuj/model.ckpt.\n",
            "INFO:tensorflow:Loss for final step: 21.372843.\n"
          ],
          "name": "stdout"
        },
        {
          "output_type": "execute_result",
          "data": {
            "text/plain": [
              "<tensorflow_estimator.python.estimator.canned.linear.LinearRegressor at 0x7f197d37f5d0>"
            ]
          },
          "metadata": {},
          "execution_count": 52
        }
      ]
    },
    {
      "cell_type": "code",
      "metadata": {
        "colab": {
          "base_uri": "https://localhost:8080/"
        },
        "id": "1yCK2BRzgnOF",
        "outputId": "2a84cb99-cc79-49c7-e1f1-b1e39531aaf9"
      },
      "source": [
        "train_metrics = estimator.evaluate(input_fn=train_input_func,steps=1000)"
      ],
      "execution_count": 53,
      "outputs": [
        {
          "output_type": "stream",
          "text": [
            "INFO:tensorflow:Calling model_fn.\n",
            "INFO:tensorflow:Done calling model_fn.\n",
            "INFO:tensorflow:Starting evaluation at 2021-08-25T13:33:49Z\n",
            "INFO:tensorflow:Graph was finalized.\n",
            "INFO:tensorflow:Restoring parameters from /tmp/tmpwra8xkuj/model.ckpt-1000\n",
            "INFO:tensorflow:Running local_init_op.\n",
            "INFO:tensorflow:Done running local_init_op.\n",
            "INFO:tensorflow:Evaluation [100/1000]\n",
            "INFO:tensorflow:Evaluation [200/1000]\n",
            "INFO:tensorflow:Evaluation [300/1000]\n",
            "INFO:tensorflow:Evaluation [400/1000]\n",
            "INFO:tensorflow:Evaluation [500/1000]\n",
            "INFO:tensorflow:Evaluation [600/1000]\n",
            "INFO:tensorflow:Evaluation [700/1000]\n",
            "INFO:tensorflow:Evaluation [800/1000]\n",
            "INFO:tensorflow:Evaluation [900/1000]\n",
            "INFO:tensorflow:Evaluation [1000/1000]\n",
            "INFO:tensorflow:Finished evaluation at 2021-08-25-13:33:51\n",
            "INFO:tensorflow:Saving dict for global step 1000: average_loss = 1.1177462, global_step = 1000, label/mean = 7.5080214, loss = 8.94197, prediction/mean = 7.3845787\n",
            "INFO:tensorflow:Saving 'checkpoint_path' summary for global step 1000: /tmp/tmpwra8xkuj/model.ckpt-1000\n"
          ],
          "name": "stdout"
        }
      ]
    },
    {
      "cell_type": "code",
      "metadata": {
        "colab": {
          "base_uri": "https://localhost:8080/"
        },
        "id": "cHeyTzZYhFNt",
        "outputId": "fc78c837-c0a2-4905-bb8a-c207b7e752ff"
      },
      "source": [
        "test_metrics = estimator.evaluate(input_fn = test_input_func,steps=1000)"
      ],
      "execution_count": 54,
      "outputs": [
        {
          "output_type": "stream",
          "text": [
            "INFO:tensorflow:Calling model_fn.\n",
            "INFO:tensorflow:Done calling model_fn.\n",
            "INFO:tensorflow:Starting evaluation at 2021-08-25T13:39:30Z\n",
            "INFO:tensorflow:Graph was finalized.\n",
            "INFO:tensorflow:Restoring parameters from /tmp/tmpwra8xkuj/model.ckpt-1000\n",
            "INFO:tensorflow:Running local_init_op.\n",
            "INFO:tensorflow:Done running local_init_op.\n",
            "INFO:tensorflow:Evaluation [100/1000]\n",
            "INFO:tensorflow:Evaluation [200/1000]\n",
            "INFO:tensorflow:Evaluation [300/1000]\n",
            "INFO:tensorflow:Evaluation [400/1000]\n",
            "INFO:tensorflow:Evaluation [500/1000]\n",
            "INFO:tensorflow:Evaluation [600/1000]\n",
            "INFO:tensorflow:Evaluation [700/1000]\n",
            "INFO:tensorflow:Evaluation [800/1000]\n",
            "INFO:tensorflow:Evaluation [900/1000]\n",
            "INFO:tensorflow:Evaluation [1000/1000]\n",
            "INFO:tensorflow:Finished evaluation at 2021-08-25-13:39:32\n",
            "INFO:tensorflow:Saving dict for global step 1000: average_loss = 1.1083536, global_step = 1000, label/mean = 7.489738, loss = 8.866829, prediction/mean = 7.3627343\n",
            "INFO:tensorflow:Saving 'checkpoint_path' summary for global step 1000: /tmp/tmpwra8xkuj/model.ckpt-1000\n"
          ],
          "name": "stdout"
        }
      ]
    },
    {
      "cell_type": "code",
      "metadata": {
        "colab": {
          "base_uri": "https://localhost:8080/"
        },
        "id": "JXJfTJjWiYjt",
        "outputId": "f1c5fc62-fa4d-419b-a8be-e27fb7b974ec"
      },
      "source": [
        "print(train_metrics)\n",
        "print(test_metrics)"
      ],
      "execution_count": 57,
      "outputs": [
        {
          "output_type": "stream",
          "text": [
            "{'average_loss': 1.1177462, 'label/mean': 7.5080214, 'loss': 8.94197, 'prediction/mean': 7.3845787, 'global_step': 1000}\n",
            "{'average_loss': 1.1083536, 'label/mean': 7.489738, 'loss': 8.866829, 'prediction/mean': 7.3627343, 'global_step': 1000}\n"
          ],
          "name": "stdout"
        }
      ]
    },
    {
      "cell_type": "code",
      "metadata": {
        "colab": {
          "base_uri": "https://localhost:8080/"
        },
        "id": "FYmFX8VHiejt",
        "outputId": "5e746cf1-c5a5-4b49-a4c4-d1f7d2800d72"
      },
      "source": [
        "new_data = np.linspace(0,10,10)\n",
        "input_fn_predict = tf.estimator.inputs.numpy_input_fn({\"x\":new_data},shuffle=False)\n",
        "list(estimator.predict(input_fn=input_fn_predict))"
      ],
      "execution_count": 59,
      "outputs": [
        {
          "output_type": "stream",
          "text": [
            "INFO:tensorflow:Calling model_fn.\n",
            "INFO:tensorflow:Done calling model_fn.\n",
            "INFO:tensorflow:Graph was finalized.\n",
            "INFO:tensorflow:Restoring parameters from /tmp/tmpwra8xkuj/model.ckpt-1000\n",
            "INFO:tensorflow:Running local_init_op.\n",
            "INFO:tensorflow:Done running local_init_op.\n"
          ],
          "name": "stdout"
        },
        {
          "output_type": "execute_result",
          "data": {
            "text/plain": [
              "[{'predictions': array([4.3596344], dtype=float32)},\n",
              " {'predictions': array([5.0315423], dtype=float32)},\n",
              " {'predictions': array([5.70345], dtype=float32)},\n",
              " {'predictions': array([6.3753586], dtype=float32)},\n",
              " {'predictions': array([7.0472665], dtype=float32)},\n",
              " {'predictions': array([7.7191744], dtype=float32)},\n",
              " {'predictions': array([8.391083], dtype=float32)},\n",
              " {'predictions': array([9.06299], dtype=float32)},\n",
              " {'predictions': array([9.734899], dtype=float32)},\n",
              " {'predictions': array([10.406807], dtype=float32)}]"
            ]
          },
          "metadata": {},
          "execution_count": 59
        }
      ]
    },
    {
      "cell_type": "code",
      "metadata": {
        "colab": {
          "base_uri": "https://localhost:8080/"
        },
        "id": "Do8G6hlmlApU",
        "outputId": "c216dfdc-9745-47b3-f44d-62802665e77a"
      },
      "source": [
        "predictions = []\n",
        "\n",
        "for pred in estimator.predict(input_fn=input_fn_predict):\n",
        "  predictions.append(pred['predictions'])"
      ],
      "execution_count": 60,
      "outputs": [
        {
          "output_type": "stream",
          "text": [
            "INFO:tensorflow:Calling model_fn.\n",
            "INFO:tensorflow:Done calling model_fn.\n",
            "INFO:tensorflow:Graph was finalized.\n",
            "INFO:tensorflow:Restoring parameters from /tmp/tmpwra8xkuj/model.ckpt-1000\n",
            "INFO:tensorflow:Running local_init_op.\n",
            "INFO:tensorflow:Done running local_init_op.\n"
          ],
          "name": "stdout"
        }
      ]
    },
    {
      "cell_type": "code",
      "metadata": {
        "colab": {
          "base_uri": "https://localhost:8080/",
          "height": 296
        },
        "id": "rDkHw3uDlUU8",
        "outputId": "a4e33898-6de4-44bd-a708-f1fac3ebcbdd"
      },
      "source": [
        "my_data.sample(n=250).plot(kind=\"scatter\",x=\"X Data\",y=\"Y Data\")\n",
        "plt.plot(new_data,predictions,\"r\")"
      ],
      "execution_count": 63,
      "outputs": [
        {
          "output_type": "execute_result",
          "data": {
            "text/plain": [
              "[<matplotlib.lines.Line2D at 0x7f197d0cb610>]"
            ]
          },
          "metadata": {},
          "execution_count": 63
        },
        {
          "output_type": "display_data",
          "data": {
            "image/png": "[encoded data removed]",
            "text/plain": [
              "<Figure size 432x288 with 1 Axes>"
            ]
          },
          "metadata": {
            "needs_background": "light"
          }
        }
      ]
    },
    {
      "cell_type": "code",
      "metadata": {
        "id": "8czx9VhhlV0V"
      },
      "source": [
        ""
      ],
      "execution_count": null,
      "outputs": []
    }
  ]
}