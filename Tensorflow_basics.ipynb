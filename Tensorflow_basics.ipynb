{
  "nbformat": 4,
  "nbformat_minor": 0,
  "metadata": {
    "colab": {
      "name": "Tensorflow-basics.ipynb",
      "provenance": [],
      "authorship_tag": "ABX9TyPAY/2eYhsHowwtrkJsOKZA",
      "include_colab_link": true
    },
    "kernelspec": {
      "name": "python3",
      "display_name": "Python 3"
    },
    "language_info": {
      "name": "python"
    }
  },
  "cells": [
    {
      "cell_type": "markdown",
      "metadata": {
        "id": "view-in-github",
        "colab_type": "text"
      },
      "source": [
        "<a href=\"https://colab.research.google.com/github/The-DarK-os/deep-learning/blob/master/Tensorflow_basics.ipynb\" target=\"_parent\"><img src=\"https://colab.research.google.com/assets/colab-badge.svg\" alt=\"Open In Colab\"/></a>"
      ]
    },
    {
      "cell_type": "code",
      "metadata": {
        "colab": {
          "base_uri": "https://localhost:8080/"
        },
        "id": "9pNFmbs4huA5",
        "outputId": "e4fafc4d-76ce-40fb-a3fd-1285a644a9f5"
      },
      "source": [
        "% tensorflow_version 1.3.0\n",
        "import tensorflow as tf\n",
        "print(tf.__version__)"
      ],
      "execution_count": 1,
      "outputs": [
        {
          "output_type": "stream",
          "text": [
            "`%tensorflow_version` only switches the major version: 1.x or 2.x.\n",
            "You set: `1.3.0`. This will be interpreted as: `1.x`.\n",
            "\n",
            "\n",
            "TensorFlow 1.x selected.\n",
            "1.15.2\n"
          ],
          "name": "stdout"
        }
      ]
    },
    {
      "cell_type": "code",
      "metadata": {
        "colab": {
          "base_uri": "https://localhost:8080/"
        },
        "id": "62Og3tSoh1MH",
        "outputId": "ca1b6876-f836-4866-a483-6da81408c266"
      },
      "source": [
        "hello = tf.constant(\"Hello \")\n",
        "world = tf.constant(\"World\")\n",
        "print(type(hello))\n",
        "print(hello)"
      ],
      "execution_count": 7,
      "outputs": [
        {
          "output_type": "stream",
          "text": [
            "<class 'tensorflow.python.framework.ops.Tensor'>\n",
            "Tensor(\"Const_6:0\", shape=(), dtype=string)\n"
          ],
          "name": "stdout"
        }
      ]
    },
    {
      "cell_type": "code",
      "metadata": {
        "colab": {
          "base_uri": "https://localhost:8080/"
        },
        "id": "BErwWYf1igs4",
        "outputId": "4e9f2a5d-f9ed-4bd1-82c3-e4236161266c"
      },
      "source": [
        "with tf.Session() as sess:\n",
        "    result = sess.run(hello + world)\n",
        "\n",
        "print(result)"
      ],
      "execution_count": 10,
      "outputs": [
        {
          "output_type": "stream",
          "text": [
            "b'Hello World'\n"
          ],
          "name": "stdout"
        }
      ]
    },
    {
      "cell_type": "code",
      "metadata": {
        "colab": {
          "base_uri": "https://localhost:8080/"
        },
        "id": "pDSDKesEjA_w",
        "outputId": "bffd73fa-39eb-46ab-f503-b55d4df8cfd5"
      },
      "source": [
        "a = tf.constant(10)\n",
        "b = tf.constant(20)\n",
        "\n",
        "with tf.Session() as sess:\n",
        "    result = sess.run(a + b)\n",
        "print(result)"
      ],
      "execution_count": 12,
      "outputs": [
        {
          "output_type": "stream",
          "text": [
            "30\n"
          ],
          "name": "stdout"
        }
      ]
    },
    {
      "cell_type": "code",
      "metadata": {
        "colab": {
          "base_uri": "https://localhost:8080/"
        },
        "id": "vMQHy0zSjUPX",
        "outputId": "5ef3b91b-9617-4bef-8191-8fc9b5e29e6d"
      },
      "source": [
        "const = tf.constant(10)\n",
        "fill_mat = tf.fill((4,4),10)\n",
        "myzeros = tf.zeros((4,4))\n",
        "myones = tf.ones((4,4))\n",
        "myrandn = tf.random_normal((4,4),mean =0,stddev=1.0)\n",
        "myrandu = tf.random_uniform((4,4),minval=1,maxval=100)\n",
        "\n",
        "my_ops = [const,fill_mat,myzeros,myones,myrandn,myrandu]\n",
        "sess = tf.InteractiveSession()\n",
        "for op in my_ops:\n",
        "  print(sess.run(op))\n",
        "  print(\"\\n\")"
      ],
      "execution_count": 15,
      "outputs": [
        {
          "output_type": "stream",
          "text": [
            "10\n",
            "\n",
            "\n",
            "[[10 10 10 10]\n",
            " [10 10 10 10]\n",
            " [10 10 10 10]\n",
            " [10 10 10 10]]\n",
            "\n",
            "\n",
            "[[0. 0. 0. 0.]\n",
            " [0. 0. 0. 0.]\n",
            " [0. 0. 0. 0.]\n",
            " [0. 0. 0. 0.]]\n",
            "\n",
            "\n",
            "[[1. 1. 1. 1.]\n",
            " [1. 1. 1. 1.]\n",
            " [1. 1. 1. 1.]\n",
            " [1. 1. 1. 1.]]\n",
            "\n",
            "\n",
            "[[-0.45302796  0.85848945 -1.1082338  -0.2887798 ]\n",
            " [-1.0245456  -0.27341577  0.45189     1.0854291 ]\n",
            " [ 0.15609623 -0.20432745 -1.2996808  -0.9048146 ]\n",
            " [ 0.66795504  0.15826117 -2.1672642   0.5134738 ]]\n",
            "\n",
            "\n",
            "[[87.928055 58.927845 76.26734  73.67315 ]\n",
            " [83.155785 45.729767 79.883995 33.69953 ]\n",
            " [92.669846 67.64877  33.962334 93.090225]\n",
            " [27.902645 98.1994   95.41814  99.32823 ]]\n",
            "\n",
            "\n"
          ],
          "name": "stdout"
        },
        {
          "output_type": "stream",
          "text": [
            "/tensorflow-1.15.2/python3.7/tensorflow_core/python/client/session.py:1750: UserWarning: An interactive session is already active. This can cause out-of-memory errors in some cases. You must explicitly call `InteractiveSession.close()` to release resources held by the other session(s).\n",
            "  warnings.warn('An interactive session is already active. This can '\n"
          ],
          "name": "stderr"
        }
      ]
    },
    {
      "cell_type": "code",
      "metadata": {
        "colab": {
          "base_uri": "https://localhost:8080/"
        },
        "id": "7fKuAO0SkbUZ",
        "outputId": "89adc60a-4f8c-4fbf-fd91-a82d59768a3d"
      },
      "source": [
        "a = tf.constant([ [1,2],\n",
        "                 [3,4] ])\n",
        "print(a.get_shape())\n",
        "\n",
        "b = tf.constant( [ [10], [100] ])\n",
        "print(b.get_shape())\n",
        "\n",
        "result = tf.matmul(a,b)\n",
        "sess.run(result)"
      ],
      "execution_count": 19,
      "outputs": [
        {
          "output_type": "stream",
          "text": [
            "(2, 2)\n",
            "(2, 1)\n"
          ],
          "name": "stdout"
        },
        {
          "output_type": "execute_result",
          "data": {
            "text/plain": [
              "array([[210],\n",
              "       [430]], dtype=int32)"
            ]
          },
          "metadata": {},
          "execution_count": 19
        }
      ]
    },
    {
      "cell_type": "code",
      "metadata": {
        "colab": {
          "base_uri": "https://localhost:8080/"
        },
        "id": "0uqbRdg_k7AA",
        "outputId": "935b64a1-3c14-4e52-8bd7-ff8a0475dfcc"
      },
      "source": [
        "n1 = tf.constant(1)\n",
        "n2 = tf.constant(2)\n",
        "n3 = n1 + n2\n",
        "\n",
        "with tf.Session() as sess:\n",
        "  result = sess.run(n3)\n",
        "print(result)"
      ],
      "execution_count": 22,
      "outputs": [
        {
          "output_type": "stream",
          "text": [
            "3\n"
          ],
          "name": "stdout"
        }
      ]
    },
    {
      "cell_type": "code",
      "metadata": {
        "colab": {
          "base_uri": "https://localhost:8080/"
        },
        "id": "hiZ1VIFpl0nH",
        "outputId": "ec043277-8738-4a06-aa19-b829ec78893c"
      },
      "source": [
        "graph = tf.Graph()\n",
        "print(graph)"
      ],
      "execution_count": 23,
      "outputs": [
        {
          "output_type": "stream",
          "text": [
            "<tensorflow.python.framework.ops.Graph object at 0x7f48760b1710>\n"
          ],
          "name": "stdout"
        }
      ]
    },
    {
      "cell_type": "code",
      "metadata": {
        "colab": {
          "base_uri": "https://localhost:8080/"
        },
        "id": "nbgXv2PUmEEP",
        "outputId": "948b3b6a-bf54-490f-9c83-feee868fabf2"
      },
      "source": [
        "graph_one = tf.get_default_graph()\n",
        "graph_two = tf.Graph()\n",
        "\n",
        "with graph_two.as_default():\n",
        "    print(graph_two is tf.get_default_graph)\n",
        "    print(graph_two)\n",
        "    print(tf.get_default_graph)"
      ],
      "execution_count": 31,
      "outputs": [
        {
          "output_type": "stream",
          "text": [
            "False\n",
            "<tensorflow.python.framework.ops.Graph object at 0x7f486cf44850>\n",
            "<function get_default_graph at 0x7f4896360dd0>\n"
          ],
          "name": "stdout"
        }
      ]
    },
    {
      "cell_type": "code",
      "metadata": {
        "colab": {
          "base_uri": "https://localhost:8080/"
        },
        "id": "IP5FwozTmZBQ",
        "outputId": "36c538c8-2bd0-4f2b-d360-28c1bfa9bfdd"
      },
      "source": [
        "sess = tf.InteractiveSession()\n",
        "my_tensor = tf.random_uniform((4,4),0,1)\n",
        "my_var = tf.Variable(initial_value=my_tensor)\n",
        "init = tf.global_variables_initializer()\n",
        "sess.run(init)\n",
        "sess.run(my_var)"
      ],
      "execution_count": 34,
      "outputs": [
        {
          "output_type": "stream",
          "text": [
            "/tensorflow-1.15.2/python3.7/tensorflow_core/python/client/session.py:1750: UserWarning: An interactive session is already active. This can cause out-of-memory errors in some cases. You must explicitly call `InteractiveSession.close()` to release resources held by the other session(s).\n",
            "  warnings.warn('An interactive session is already active. This can '\n"
          ],
          "name": "stderr"
        },
        {
          "output_type": "execute_result",
          "data": {
            "text/plain": [
              "array([[0.3230344 , 0.983562  , 0.4566493 , 0.8884711 ],\n",
              "       [0.42615008, 0.00170052, 0.6235614 , 0.7010195 ],\n",
              "       [0.508603  , 0.5990931 , 0.82462156, 0.36177182],\n",
              "       [0.5954162 , 0.88702905, 0.33906662, 0.32853234]], dtype=float32)"
            ]
          },
          "metadata": {},
          "execution_count": 34
        }
      ]
    },
    {
      "cell_type": "code",
      "metadata": {
        "id": "T8PRK7DSm3l3"
      },
      "source": [
        "ph = tf.placeholder(tf.float32,shape =(None,5))"
      ],
      "execution_count": 36,
      "outputs": []
    },
    {
      "cell_type": "markdown",
      "metadata": {
        "id": "JDP4BI3U0P43"
      },
      "source": [
        "## **Simple Regression**"
      ]
    },
    {
      "cell_type": "code",
      "metadata": {
        "id": "8xuAQKo1onv-"
      },
      "source": [
        "import numpy as np\n",
        "np.random.seed(101)\n",
        "tf.set_random_seed(101)"
      ],
      "execution_count": 37,
      "outputs": []
    },
    {
      "cell_type": "code",
      "metadata": {
        "id": "XuCV8v_Rm7fH"
      },
      "source": [
        "rand_a = np.random.uniform(0,100,(5,5))\n",
        "rand_b = np.random.uniform(0,100,(5,1))"
      ],
      "execution_count": 40,
      "outputs": []
    },
    {
      "cell_type": "code",
      "metadata": {
        "id": "YVwa52R6qvae"
      },
      "source": [
        "a = tf.placeholder(tf.float32)\n",
        "b = tf.placeholder(tf.float32)\n",
        "\n",
        "add_op = a+b\n",
        "\n",
        "mul_op = a*b"
      ],
      "execution_count": 43,
      "outputs": []
    },
    {
      "cell_type": "code",
      "metadata": {
        "colab": {
          "base_uri": "https://localhost:8080/"
        },
        "id": "tWKGfr6JrD9P",
        "outputId": "1e11d567-cb54-4133-ebde-2557a040811d"
      },
      "source": [
        "with tf.Session() as sess:\n",
        "  add_result = sess.run(add_op,feed_dict = {a:rand_a,b:rand_b})\n",
        "  mult_result = sess.run(mul_op , feed_dict = {a:rand_a,b:rand_b})\n",
        "\n",
        "print(add_result)\n",
        "print(\"\\n\")\n",
        "print(mult_result)"
      ],
      "execution_count": 49,
      "outputs": [
        {
          "output_type": "stream",
          "text": [
            "[[ 88.98393   73.07097   25.255817  43.309807  78.43666 ]\n",
            " [ 78.03582  116.00413   79.79341   71.27329   83.820145]\n",
            " [ 97.19916  140.72107  147.88876  100.77908   99.07428 ]\n",
            " [138.58093  107.312836  86.60985   79.962135 138.6179  ]\n",
            " [ 90.60228   76.401726  74.55246   51.83258   75.03522 ]]\n",
            "\n",
            "\n",
            "[[1423.7158   1090.8779     90.769165  468.38913  1203.1075  ]\n",
            " [ 794.7713   3300.393     910.75903   348.49557  1176.4932  ]\n",
            " [2342.8853   4647.908    5027.5254   2532.4866   2442.196   ]\n",
            " [4770.2383   2429.757     880.096     382.50137  4773.005   ]\n",
            " [ 761.555     628.4151    611.07697   398.0625    615.60315 ]]\n"
          ],
          "name": "stdout"
        }
      ]
    },
    {
      "cell_type": "code",
      "metadata": {
        "id": "8ilh6fTvrXH_"
      },
      "source": [
        "n_features = 10\n",
        "n_dense_neurons = 3\n",
        "\n",
        "x = tf.placeholder(tf.float32,(None,n_features))\n",
        "W = tf.Variable(tf.random_normal([n_features,n_dense_neurons]))\n",
        "b = tf.Variable(tf.ones([n_dense_neurons]))\n",
        "\n",
        "xW = tf.matmul(x,W)\n",
        "z = tf.add(xW,b)\n",
        "a = tf.sigmoid(z)"
      ],
      "execution_count": 50,
      "outputs": []
    },
    {
      "cell_type": "code",
      "metadata": {
        "colab": {
          "base_uri": "https://localhost:8080/"
        },
        "id": "Vf57lUxytLI3",
        "outputId": "2cc38ecf-a9c5-486c-ead6-a849b4b30a5e"
      },
      "source": [
        "init = tf.global_variables_initializer()\n",
        "with tf.Session() as sess:\n",
        "  sess.run(init)\n",
        "  layer_out = sess.run(a,feed_dict = {x:np.random.random([1,n_features])})\n",
        "print(layer_out)"
      ],
      "execution_count": 53,
      "outputs": [
        {
          "output_type": "stream",
          "text": [
            "[[0.55432075 0.7393118  0.30537763]]\n"
          ],
          "name": "stdout"
        }
      ]
    },
    {
      "cell_type": "code",
      "metadata": {
        "id": "4qaJtYYWtok9"
      },
      "source": [
        "x_data = np.linspace(0,10,10) + np.random.uniform(-1.5,1.5,10)\n",
        "y_label = np.linspace(0,10,10) + np.random.uniform(-1.5,1.5,10)"
      ],
      "execution_count": 55,
      "outputs": []
    },
    {
      "cell_type": "code",
      "metadata": {
        "colab": {
          "base_uri": "https://localhost:8080/",
          "height": 282
        },
        "id": "2UdGOkugvoom",
        "outputId": "52f92647-4813-41d0-c9c7-5e3cf98d1bbc"
      },
      "source": [
        "import matplotlib.pyplot as plt\n",
        "plt.plot(x_data,y_label,\"o\")"
      ],
      "execution_count": 57,
      "outputs": [
        {
          "output_type": "execute_result",
          "data": {
            "text/plain": [
              "[<matplotlib.lines.Line2D at 0x7f486b053d90>]"
            ]
          },
          "metadata": {},
          "execution_count": 57
        },
        {
          "output_type": "display_data",
          "data": {
            "image/png": "[encoded data removed]",
            "text/plain": [
              "<Figure size 432x288 with 1 Axes>"
            ]
          },
          "metadata": {
            "needs_background": "light"
          }
        }
      ]
    },
    {
      "cell_type": "code",
      "metadata": {
        "colab": {
          "base_uri": "https://localhost:8080/"
        },
        "id": "RsUmg5bbwadN",
        "outputId": "cafa4f19-5592-48e3-e27c-fa690e07ba38"
      },
      "source": [
        "m = tf.Variable(np.random.rand(1))\n",
        "b = tf.Variable(np.random.rand(1))\n",
        "error = 0\n",
        "for x,y in zip(x_data,y_label):\n",
        "  y_hat = m*x + b\n",
        "  error += (y-y_hat)**2\n",
        "\n",
        "optimizer = tf.train.GradientDescentOptimizer(learning_rate=0.001)\n",
        "train = optimizer.minimize(error)"
      ],
      "execution_count": 60,
      "outputs": [
        {
          "output_type": "stream",
          "text": [
            "WARNING:tensorflow:From /tensorflow-1.15.2/python3.7/tensorflow_core/python/ops/math_grad.py:1375: where (from tensorflow.python.ops.array_ops) is deprecated and will be removed in a future version.\n",
            "Instructions for updating:\n",
            "Use tf.where in 2.0, which has the same broadcast rule as np.where\n"
          ],
          "name": "stdout"
        }
      ]
    },
    {
      "cell_type": "code",
      "metadata": {
        "id": "0o6AQ75vzP3m"
      },
      "source": [
        "init = tf.global_variables_initializer()\n",
        "with tf.Session() as sess:\n",
        "  sess.run(init)\n",
        "  training_steps = 1000\n",
        "  for i in range(training_steps):\n",
        "    sess.run(train)\n",
        "  final_slope , final_intercept = sess.run([m,b])"
      ],
      "execution_count": 65,
      "outputs": []
    },
    {
      "cell_type": "code",
      "metadata": {
        "colab": {
          "base_uri": "https://localhost:8080/",
          "height": 282
        },
        "id": "0QlUhtgl06l1",
        "outputId": "f06bfb7a-1747-452e-f2c4-43299d672ce1"
      },
      "source": [
        "x_test = np.linspace(-1,11,10)\n",
        "y_pred_plot = final_slope * x_test + final_intercept\n",
        "plt.plot(x_test,y_pred_plot,\"r\")\n",
        "plt.plot(x_data,y_label,\"o\")"
      ],
      "execution_count": 66,
      "outputs": [
        {
          "output_type": "execute_result",
          "data": {
            "text/plain": [
              "[<matplotlib.lines.Line2D at 0x7f486a30e510>]"
            ]
          },
          "metadata": {},
          "execution_count": 66
        },
        {
          "output_type": "display_data",
          "data": {
            "image/png": "[encoded data removed]",
            "text/plain": [
              "<Figure size 432x288 with 1 Axes>"
            ]
          },
          "metadata": {
            "needs_background": "light"
          }
        }
      ]
    },
    {
      "cell_type": "code",
      "metadata": {
        "id": "8fsQa_-u1MZc"
      },
      "source": [
        ""
      ],
      "execution_count": null,
      "outputs": []
    }
  ]
}